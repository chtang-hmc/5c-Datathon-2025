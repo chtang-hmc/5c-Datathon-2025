{
 "cells": [
  {
   "cell_type": "code",
   "execution_count": null,
   "id": "ce867e2f",
   "metadata": {},
   "outputs": [],
   "source": [
    "import pandas as pd"
   ]
  },
  {
   "cell_type": "code",
   "execution_count": null,
   "id": "d78f645d",
   "metadata": {},
   "outputs": [],
   "source": [
    "import seaborn as sns"
   ]
  },
  {
   "cell_type": "code",
   "execution_count": null,
   "id": "c34e4966",
   "metadata": {},
   "outputs": [],
   "source": [
    "t = pd.read_csv(\n",
    "    \"/Users/ishitajain/5c_data/5c-Datathon-2025/data_and_starter_code/data/gas_prices.csv\"\n",
    ")"
   ]
  },
  {
   "cell_type": "code",
   "execution_count": null,
   "id": "124302a6",
   "metadata": {},
   "outputs": [],
   "source": [
    "t"
   ]
  },
  {
   "cell_type": "code",
   "execution_count": null,
   "id": "d4a4a782",
   "metadata": {},
   "outputs": [],
   "source": [
    "d_2021 = pd.read_csv(\"2021.csv\", delimiter=\";\", encoding=\"latin1\")\n",
    "d_2022 = pd.read_csv(\"2022.csv\", delimiter=\";\", encoding=\"latin1\")\n",
    "d_2023 = pd.read_csv(\"2023.csv\", delimiter=\";\", encoding=\"latin1\")\n",
    "d_2024 = pd.read_csv(\"2024.csv\", delimiter=\";\", encoding=\"latin1\")"
   ]
  },
  {
   "cell_type": "code",
   "execution_count": null,
   "id": "3c68eedc",
   "metadata": {},
   "outputs": [],
   "source": [
    "d_2024"
   ]
  },
  {
   "cell_type": "code",
   "execution_count": null,
   "id": "8d16df45",
   "metadata": {},
   "outputs": [],
   "source": [
    "electric_prices = pd.concat([d_2021, d_2022, d_2023, d_2024])"
   ]
  },
  {
   "cell_type": "code",
   "execution_count": null,
   "id": "44615333",
   "metadata": {},
   "outputs": [],
   "source": [
    "electric_prices"
   ]
  },
  {
   "cell_type": "code",
   "execution_count": null,
   "id": "36478042",
   "metadata": {},
   "outputs": [],
   "source": [
    "# Convert the timestamp column to datetime format\n",
    "electric_prices[\"Date\"] = pd.to_datetime(\n",
    "    electric_prices[\"Date\"], format=\"%d.%m.%Y %H:%M\"\n",
    ")\n",
    "\n",
    "# Extract the date part\n",
    "electric_prices[\"Date\"] = electric_prices[\"Date\"].dt.date"
   ]
  },
  {
   "cell_type": "code",
   "execution_count": null,
   "id": "056f28d4",
   "metadata": {},
   "outputs": [],
   "source": [
    "electric_prices.drop([\"Nums\"], axis=1, inplace=True)\n",
    "electric_prices"
   ]
  },
  {
   "cell_type": "code",
   "execution_count": null,
   "id": "9ab5e5e7",
   "metadata": {},
   "outputs": [],
   "source": [
    "electric_prices"
   ]
  },
  {
   "cell_type": "code",
   "execution_count": null,
   "id": "09964f66",
   "metadata": {},
   "outputs": [],
   "source": [
    "electric_prices[\"Date\"] = pd.to_datetime(electric_prices[\"Date\"])"
   ]
  },
  {
   "cell_type": "code",
   "execution_count": null,
   "id": "39390a99",
   "metadata": {},
   "outputs": [],
   "source": [
    "electric_prices"
   ]
  },
  {
   "cell_type": "code",
   "execution_count": null,
   "id": "b212415b",
   "metadata": {},
   "outputs": [],
   "source": [
    "# Replace commas with dots and convert to numeric for all relevant columns\n",
    "for column in [\"Latvia\", \"Lithuania\", \"Finland\", \"Estonia\"]:\n",
    "    electric_prices[column] = (\n",
    "        electric_prices[column].str.replace(\",\", \".\").astype(float)\n",
    "    )\n",
    "\n",
    "electric_prices"
   ]
  },
  {
   "cell_type": "code",
   "execution_count": null,
   "id": "ee764f5e",
   "metadata": {},
   "outputs": [],
   "source": [
    "# Group by the date and calculate the mean for numeric columns\n",
    "daily_averages = electric_prices.groupby(\"Date\").mean()\n",
    "daily_averages\n",
    "# Display the daily averages"
   ]
  },
  {
   "cell_type": "code",
   "execution_count": null,
   "id": "72021a53",
   "metadata": {},
   "outputs": [],
   "source": [
    "daily_averages.to_csv(\"electric_prices.csv\")"
   ]
  },
  {
   "cell_type": "code",
   "execution_count": null,
   "id": "103b021c",
   "metadata": {},
   "outputs": [],
   "source": []
  },
  {
   "cell_type": "code",
   "execution_count": null,
   "id": "8ab47980",
   "metadata": {},
   "outputs": [],
   "source": []
  },
  {
   "cell_type": "code",
   "execution_count": null,
   "id": "67542c75",
   "metadata": {},
   "outputs": [],
   "source": []
  },
  {
   "cell_type": "code",
   "execution_count": null,
   "id": "ae0f5b16",
   "metadata": {},
   "outputs": [],
   "source": []
  },
  {
   "cell_type": "code",
   "execution_count": null,
   "id": "aad9d457",
   "metadata": {},
   "outputs": [],
   "source": []
  },
  {
   "cell_type": "code",
   "execution_count": null,
   "id": "6bd5f592",
   "metadata": {},
   "outputs": [],
   "source": []
  }
 ],
 "metadata": {
  "kernelspec": {
   "display_name": "tensorflow",
   "language": "python",
   "name": "python3"
  },
  "language_info": {
   "codemirror_mode": {
    "name": "ipython",
    "version": 3
   },
   "file_extension": ".py",
   "mimetype": "text/x-python",
   "name": "python",
   "nbconvert_exporter": "python",
   "pygments_lexer": "ipython3",
   "version": "3.8.18"
  }
 },
 "nbformat": 4,
 "nbformat_minor": 5
}
