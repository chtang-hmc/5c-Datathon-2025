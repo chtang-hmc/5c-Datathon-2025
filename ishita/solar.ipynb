{
 "cells": [
  {
   "cell_type": "code",
   "execution_count": null,
   "id": "37514b46",
   "metadata": {},
   "outputs": [],
   "source": [
    "import pandas as pd\n",
    "import matplotlib as plt"
   ]
  },
  {
   "cell_type": "code",
   "execution_count": null,
   "id": "03444d10",
   "metadata": {},
   "outputs": [],
   "source": [
    "weather = pd.read_csv(\n",
    "    \"/Users/ishitajain/5c_data/5c-Datathon-2025/data_and_starter_code/data/historical_weather.csv\"\n",
    ")"
   ]
  },
  {
   "cell_type": "code",
   "execution_count": null,
   "id": "fd2ce1df",
   "metadata": {},
   "outputs": [],
   "source": [
    "produc = pd.read_csv(\"baltic_energy_type.csv\")"
   ]
  },
  {
   "cell_type": "code",
   "execution_count": null,
   "id": "0855f884",
   "metadata": {},
   "outputs": [],
   "source": [
    "solar_produc = produc[produc[\"Production Type\"] == \"Solar\"]"
   ]
  },
  {
   "cell_type": "markdown",
   "id": "d3f4cdd3",
   "metadata": {},
   "source": [
    "We are using the PVwatts thiing\n",
    "\n",
    "it require poa irradianvce \n",
    "dependning on the irradiance, there are 2 differnet forms/ \n"
   ]
  },
  {
   "cell_type": "code",
   "execution_count": null,
   "id": "f5baa2b3",
   "metadata": {},
   "outputs": [],
   "source": [
    "solar_produc = solar_produc[solar_produc[\"Area\"] == \"Estonia\"]"
   ]
  },
  {
   "cell_type": "code",
   "execution_count": null,
   "id": "e08e19e1",
   "metadata": {},
   "outputs": [],
   "source": [
    "weather"
   ]
  },
  {
   "cell_type": "code",
   "execution_count": null,
   "id": "9a987c80",
   "metadata": {},
   "outputs": [],
   "source": [
    "weather[\"date\"] = pd.to_datetime(weather[\"datetime\"])"
   ]
  },
  {
   "cell_type": "code",
   "execution_count": null,
   "id": "84563b4c",
   "metadata": {},
   "outputs": [],
   "source": [
    "solar_produc[\"date\"] = pd.to_datetime(solar_produc[\"MTU (CET/CEST)\"], format=\"%d/%m/%Y\")"
   ]
  },
  {
   "cell_type": "code",
   "execution_count": null,
   "id": "1944a4cb",
   "metadata": {},
   "outputs": [],
   "source": [
    "weather.columns"
   ]
  },
  {
   "cell_type": "code",
   "execution_count": null,
   "id": "80267448",
   "metadata": {},
   "outputs": [],
   "source": [
    "weather[\"date\"] = pd.to_datetime(weather[\"date\"])"
   ]
  },
  {
   "cell_type": "code",
   "execution_count": null,
   "id": "3f6ac4ad",
   "metadata": {},
   "outputs": [],
   "source": []
  },
  {
   "cell_type": "code",
   "execution_count": null,
   "id": "6447c204",
   "metadata": {},
   "outputs": [],
   "source": [
    "print(weather.head())"
   ]
  },
  {
   "cell_type": "code",
   "execution_count": null,
   "id": "a194bf5b",
   "metadata": {},
   "outputs": [],
   "source": [
    "import pandas as pd\n",
    "import numpy as np\n",
    "\n",
    "# Convert datetime and set as index\n",
    "\n",
    "\n",
    "# Helper for RMS (root mean square)\n",
    "def rms(x):\n",
    "    return np.sqrt((x**2).mean())\n",
    "\n",
    "\n",
    "# Helper for circular mean in degrees\n",
    "def circular_mean_deg(deg_series):\n",
    "    radians = np.deg2rad(deg_series)\n",
    "    sin_mean = np.mean(np.sin(radians))\n",
    "    cos_mean = np.mean(np.cos(radians))\n",
    "    return np.rad2deg(np.arctan2(sin_mean, cos_mean)) % 360\n",
    "\n",
    "\n",
    "# Define aggregation functions\n",
    "agg_funcs = {\n",
    "    \"temperature\": \"mean\",\n",
    "    \"dewpoint\": \"mean\",\n",
    "    \"rain\": \"sum\",\n",
    "    \"snowfall\": \"sum\",\n",
    "    \"surface_pressure\": \"mean\",\n",
    "    \"cloudcover_total\": \"mean\",\n",
    "    \"cloudcover_low\": \"mean\",\n",
    "    \"cloudcover_mid\": \"mean\",\n",
    "    \"cloudcover_high\": \"mean\",\n",
    "    \"windspeed_10m\": rms,\n",
    "    \"winddirection_10m\": circular_mean_deg,\n",
    "    \"shortwave_radiation\": \"mean\",\n",
    "    \"direct_solar_radiation\": \"mean\",\n",
    "    \"diffuse_radiation\": \"mean\",\n",
    "    \"latitude\": \"mean\",\n",
    "    \"longitude\": \"mean\",\n",
    "}\n",
    "\n",
    "# Apply daily resampling\n",
    "# Assuming you already have the weather DataFrame\n",
    "\n",
    "# Convert datetime column to datetime format and set as index\n",
    "weather[\"datetime\"] = pd.to_datetime(weather[\"datetime\"])\n",
    "weather = weather.set_index(\"datetime\")\n",
    "\n",
    "# Now resample daily and aggregate\n",
    "daily_df = weather.resample(\"D\").agg(agg_funcs).reset_index()"
   ]
  },
  {
   "cell_type": "code",
   "execution_count": null,
   "id": "d8e82ed6",
   "metadata": {},
   "outputs": [],
   "source": [
    "daily_df"
   ]
  },
  {
   "cell_type": "code",
   "execution_count": null,
   "id": "1c526055",
   "metadata": {},
   "outputs": [],
   "source": [
    "daily_df[\"precipitation\"] = daily_df[\"rain\"] + daily_df[\"snowfall\"]\n",
    "daily_df.drop(\n",
    "    [\"rain\", \"snowfall\", \"cloudcover_low\", \"cloudcover_mid\", \"cloudcover_high\"],\n",
    "    axis=1,\n",
    "    inplace=True,\n",
    ")"
   ]
  },
  {
   "cell_type": "code",
   "execution_count": null,
   "id": "400a7062",
   "metadata": {},
   "outputs": [],
   "source": [
    "daily_df = daily_df.rename({\"datetime\": \"date\"})"
   ]
  },
  {
   "cell_type": "code",
   "execution_count": null,
   "id": "7e1d80b7",
   "metadata": {},
   "outputs": [],
   "source": [
    "solar_produc"
   ]
  },
  {
   "cell_type": "code",
   "execution_count": null,
   "id": "bb7951bc",
   "metadata": {},
   "outputs": [],
   "source": [
    "daily_df.rename({\"datetime\": \"date\"}, axis=1, inplace=True)"
   ]
  },
  {
   "cell_type": "code",
   "execution_count": null,
   "id": "4fc3cc65",
   "metadata": {},
   "outputs": [],
   "source": [
    "daily_df"
   ]
  },
  {
   "cell_type": "code",
   "execution_count": null,
   "id": "322ea024",
   "metadata": {},
   "outputs": [],
   "source": [
    "# Filter solar_produc for Estonia\n",
    "\n",
    "\n",
    "# Merge the filtered solar_produc with weather on the date column\n",
    "merged_data = pd.merge(solar_produc, daily_df, on=\"date\")\n",
    "\n",
    "# Display the merged data\n",
    "merged_data"
   ]
  },
  {
   "cell_type": "code",
   "execution_count": null,
   "id": "393e336a",
   "metadata": {},
   "outputs": [],
   "source": []
  },
  {
   "cell_type": "code",
   "execution_count": null,
   "id": "a4ddb679",
   "metadata": {},
   "outputs": [],
   "source": [
    "merged_data.drop([\"MTU (CET/CEST)\", \"Area\", \"Production Type\"], axis=1, inplace=True)"
   ]
  },
  {
   "cell_type": "code",
   "execution_count": null,
   "id": "3b0e0f36",
   "metadata": {},
   "outputs": [],
   "source": [
    "merged_data.columns"
   ]
  },
  {
   "cell_type": "code",
   "execution_count": null,
   "id": "62a71776",
   "metadata": {},
   "outputs": [],
   "source": [
    "import seaborn as sns"
   ]
  },
  {
   "cell_type": "code",
   "execution_count": null,
   "id": "acf3248f",
   "metadata": {},
   "outputs": [],
   "source": [
    "sns.heatmap(merged_data.corr())"
   ]
  },
  {
   "cell_type": "code",
   "execution_count": null,
   "id": "16b1adea",
   "metadata": {},
   "outputs": [],
   "source": [
    "#"
   ]
  },
  {
   "cell_type": "code",
   "execution_count": null,
   "id": "fbba63af",
   "metadata": {},
   "outputs": [],
   "source": [
    "# import numpy as np\n",
    "\n",
    "# merged_data[\"log_generation\"] = np.log1p(\n",
    "#     merged_data[\"Generation (MW)\"] + 1\n",
    "# )  # log(1 + x) to handle 0s"
   ]
  },
  {
   "cell_type": "code",
   "execution_count": null,
   "id": "9797f3f0",
   "metadata": {},
   "outputs": [],
   "source": []
  },
  {
   "cell_type": "code",
   "execution_count": null,
   "id": "3e8a6b37",
   "metadata": {},
   "outputs": [],
   "source": [
    "merged_data.drop(\n",
    "    [\"dewpoint\", \"shortwave_radiation\", \"diffuse_radiation\", \"latitude\", \"longitude\"],\n",
    "    axis=1,\n",
    "    inplace=True,\n",
    ")"
   ]
  },
  {
   "cell_type": "code",
   "execution_count": null,
   "id": "1814dccd",
   "metadata": {},
   "outputs": [],
   "source": [
    "# from sklearn.linear_model import LinearRegression\n",
    "# from sklearn.preprocessing import StandardScaler\n",
    "# import numpy as np\n",
    "\n",
    "# # Drop date column and isolate predictors and target\n",
    "# drop_cols = [\"date\"]\n",
    "# target = \"Generation (MW)\"\n",
    "# predictors = [col for col in df.columns if col not in [target] + drop_cols]\n",
    "\n",
    "# # Standardize predictors\n",
    "# scaler = StandardScaler()\n",
    "# X_scaled = scaler.fit_transform(df[predictors])\n",
    "# y = df[target]\n",
    "\n",
    "# # Fit linear regression\n",
    "# linreg = LinearRegression()\n",
    "# linreg.fit(X_scaled, y)\n",
    "\n",
    "# # Get feature importance (absolute coefficient values)\n",
    "# importance = np.abs(linreg.coef_)\n",
    "\n",
    "# # Create a DataFrame for easy plotting\n",
    "# importance_df = pd.DataFrame(\n",
    "#     {\"Feature\": predictors, \"Importance\": importance}\n",
    "# ).sort_values(by=\"Importance\", ascending=False)\n",
    "\n",
    "# # Plot\n",
    "# plt.figure(figsize=(10, 6))\n",
    "# sns.barplot(x=\"Importance\", y=\"Feature\", data=importance_df, palette=\"viridis\")\n",
    "# plt.title(\"Feature Importance (Linear Regression Coefficients)\")\n",
    "# plt.xlabel(\"Absolute Coefficient Value\")\n",
    "# plt.ylabel(\"Feature\")\n",
    "# plt.tight_layout()\n",
    "# plt.show()"
   ]
  },
  {
   "cell_type": "code",
   "execution_count": null,
   "id": "00f21031",
   "metadata": {},
   "outputs": [],
   "source": [
    "# import seaborn as sns\n",
    "# import matplotlib.pyplot as plt\n",
    "\n",
    "# # For each predictor\n",
    "# for col in [\n",
    "#     \"dewpoint\",\n",
    "#     \"surface_pressure\",\n",
    "#     \"cloudcover_total\",\n",
    "#     \"shortwave_radiation\",\n",
    "#     \"direct_solar_radiation\",\n",
    "#     \"diffuse_radiation\",\n",
    "#     \"precipitation\",\n",
    "# ]:\n",
    "#     sns.scatterplot(x=df[col], y=df[\"Generation (MW)\"])\n",
    "#     plt.title(f\"{col} vs Generation (MW)\")\n",
    "#     plt.show()"
   ]
  },
  {
   "cell_type": "code",
   "execution_count": null,
   "id": "a3fa4147",
   "metadata": {},
   "outputs": [],
   "source": [
    "# additional_columns_to_remove = [\n",
    "#     \"windspeed_10m\",\n",
    "#     \"winddirection_10m\",\n",
    "#     \"day_of_year\",å\n",
    "#     \"temperature\",\n",
    "#     \"day_of_week\",\n",
    "#     \"month\",\n",
    "#     \"latitude\",\n",
    "#     \"longitude\",\n",
    "#     \"hour\",\n",
    "# ]\n",
    "\n",
    "\n",
    "# # Function to remove these columns from your existing dataframe\n",
    "# def remove_columns(df, columns_to_remove):\n",
    "#     for col in columns_to_remove:\n",
    "#         if col in df.columns:\n",
    "#             df = df.drop(col, axis=1)\n",
    "#             print(f\"Removed column: {col}\")\n",
    "#     return df\n",
    "\n",
    "\n",
    "# merged_data = remove_columns(merged_data, additional_columns_to_remove)"
   ]
  },
  {
   "cell_type": "code",
   "execution_count": null,
   "id": "a65bdd01",
   "metadata": {},
   "outputs": [],
   "source": [
    "import matplotlib.pyplot as plt\n",
    "\n",
    "# Plot direct solar radiation over time\n",
    "plt.figure(figsize=(12, 6))\n",
    "plt.scatter(\n",
    "    merged_data[\"date\"],\n",
    "    merged_data[\"direct_solar_radiation\"],\n",
    "    label=\"Direct Solar Radiation\",\n",
    "    color=\"orange\",\n",
    ")\n",
    "plt.xlabel(\"Date\")\n",
    "plt.ylabel(\"Direct Solar Radiation\")\n",
    "plt.title(\"Direct Solar Radiation Over Time\")\n",
    "plt.legend()\n",
    "plt.grid(True, alpha=0.3)\n",
    "plt.tight_layout()\n",
    "plt.show()"
   ]
  },
  {
   "cell_type": "code",
   "execution_count": null,
   "id": "614a5b4a",
   "metadata": {},
   "outputs": [],
   "source": [
    "df = merged_data.copy()"
   ]
  },
  {
   "cell_type": "code",
   "execution_count": null,
   "id": "169e31d4",
   "metadata": {},
   "outputs": [],
   "source": [
    "# from statsmodels.stats.outliers_influence import variance_inflation_factor\n",
    "# import pandas as pd\n",
    "\n",
    "# # VIF dataframe\n",
    "# X_no_const = df[predictors]\n",
    "# vif_data = pd.DataFrame()\n",
    "# vif_data[\"feature\"] = X_no_const.columns\n",
    "# vif_data[\"VIF\"] = [\n",
    "#     variance_inflation_factor(X_no_const.values, i) for i in range(X_no_const.shape[1])\n",
    "# ]\n",
    "# print(vif_data)"
   ]
  },
  {
   "cell_type": "code",
   "execution_count": null,
   "id": "8f3373db",
   "metadata": {},
   "outputs": [],
   "source": [
    "df"
   ]
  },
  {
   "cell_type": "code",
   "execution_count": null,
   "id": "15f64849",
   "metadata": {},
   "outputs": [],
   "source": [
    "merged_data.columns"
   ]
  },
  {
   "cell_type": "code",
   "execution_count": null,
   "id": "f367fd5b",
   "metadata": {},
   "outputs": [],
   "source": []
  },
  {
   "cell_type": "code",
   "execution_count": null,
   "id": "aa8f33ee",
   "metadata": {},
   "outputs": [],
   "source": [
    "merged_data"
   ]
  },
  {
   "cell_type": "code",
   "execution_count": null,
   "id": "128adfe5",
   "metadata": {},
   "outputs": [],
   "source": [
    "merged_data"
   ]
  },
  {
   "cell_type": "code",
   "execution_count": null,
   "id": "d23b0796",
   "metadata": {},
   "outputs": [],
   "source": []
  },
  {
   "cell_type": "code",
   "execution_count": null,
   "id": "491c7136",
   "metadata": {},
   "outputs": [],
   "source": [
    "import numpy as np\n",
    "\n",
    "merged_data[\"Generation_log\"] = np.log(\n",
    "    merged_data[\"Generation (MW)\"] + 1\n",
    ")  # Add 1 to avoid log(0)"
   ]
  },
  {
   "cell_type": "code",
   "execution_count": null,
   "id": "7270a1c7",
   "metadata": {},
   "outputs": [],
   "source": [
    "import statsmodels.api as sm\n",
    "\n",
    "# Define X and y\n",
    "X = merged_data.drop(\n",
    "    [\"Generation (MW)\", \"Generation_log\", \"date\"], axis=1\n",
    ")  # example predictors\n",
    "X = sm.add_constant(X)  # adds intercept\n",
    "y = merged_data[\"Generation_log\"]  # use original or transformed y\n",
    "\n",
    "model = sm.OLS(y, X).fit()\n",
    "print(model.summary())"
   ]
  },
  {
   "cell_type": "code",
   "execution_count": null,
   "id": "fa3b03c1",
   "metadata": {},
   "outputs": [],
   "source": [
    "from statsmodels.stats.outliers_influence import variance_inflation_factor\n",
    "from statsmodels.tools.tools import add_constant\n",
    "\n",
    "# Add constant to the dataset (for the intercept in VIF calculation)\n",
    "X_with_const = add_constant(X)\n",
    "\n",
    "# Calculate VIF for each feature\n",
    "vif_data = pd.DataFrame()\n",
    "vif_data[\"Feature\"] = X.columns\n",
    "vif_data[\"VIF\"] = [\n",
    "    variance_inflation_factor(X_with_const.values, i)\n",
    "    for i in range(X_with_const.shape[1])\n",
    "]\n",
    "\n",
    "# Sort by VIF\n",
    "vif_data = vif_data.sort_values(by=\"VIF\", ascending=False)\n",
    "\n",
    "print(vif_data)"
   ]
  },
  {
   "cell_type": "code",
   "execution_count": null,
   "id": "be46307b",
   "metadata": {},
   "outputs": [],
   "source": [
    "merged_data[\"output_one_pan\"] = 1.63 * (merged_data[\"direct_solar_radiation\"]) * 0.2"
   ]
  },
  {
   "cell_type": "code",
   "execution_count": null,
   "id": "d21fe669",
   "metadata": {},
   "outputs": [],
   "source": [
    "merged_data"
   ]
  },
  {
   "cell_type": "code",
   "execution_count": null,
   "id": "cec1f043",
   "metadata": {},
   "outputs": [],
   "source": []
  },
  {
   "cell_type": "code",
   "execution_count": null,
   "id": "981b848c",
   "metadata": {},
   "outputs": [],
   "source": [
    "import matplotlib.pyplot as plt\n",
    "\n",
    "# Plot cloud cover over time\n",
    "plt.figure(figsize=(12, 6))\n",
    "plt.scatter(\n",
    "    merged_data[\"date\"],\n",
    "    merged_data[\"cloudcover_total\"],\n",
    "    label=\"Cloud Cover\",\n",
    "    color=\"blue\",\n",
    ")\n",
    "plt.xlabel(\"Date\")\n",
    "plt.ylabel(\"Cloud Cover (%)\")\n",
    "plt.title(\"Cloud Cover Over Time\")\n",
    "plt.legend()\n",
    "plt.grid(True, alpha=0.3)\n",
    "plt.tight_layout()\n",
    "plt.show()"
   ]
  },
  {
   "cell_type": "code",
   "execution_count": null,
   "id": "09864685",
   "metadata": {},
   "outputs": [],
   "source": [
    "numeric_cols = [\n",
    "    \"Generation (MW)\",\n",
    "    \"temperature\",\n",
    "    \"surface_pressure\",\n",
    "    \"cloudcover_total\",\n",
    "    \"windspeed_10m\",\n",
    "    \"direct_solar_radiation\",\n",
    "    \"precipitation\",\n",
    "]"
   ]
  },
  {
   "cell_type": "code",
   "execution_count": null,
   "id": "2a3eba85",
   "metadata": {},
   "outputs": [],
   "source": [
    "merged_data"
   ]
  },
  {
   "cell_type": "code",
   "execution_count": null,
   "id": "fe99dcde",
   "metadata": {},
   "outputs": [],
   "source": [
    "import matplotlib.pyplot as plt\n",
    "\n",
    "# Plot direct solar radiation over time\n",
    "plt.figure(figsize=(12, 6))\n",
    "plt.scatter(\n",
    "    merged_data[\"date\"],\n",
    "    merged_data[\"precipitation\"],\n",
    "    label=\"Direct Solar Radiation\",\n",
    "    color=\"orange\",\n",
    ")\n",
    "plt.xlabel(\"Date\")\n",
    "plt.ylabel(\"Direct Solar Radiation\")\n",
    "plt.title(\"Direct Solar Radiation Over Time\")\n",
    "plt.legend()\n",
    "plt.grid(True, alpha=0.3)\n",
    "plt.tight_layout()\n",
    "plt.show()"
   ]
  },
  {
   "cell_type": "code",
   "execution_count": null,
   "id": "1f2653a3",
   "metadata": {},
   "outputs": [],
   "source": [
    "merged_data"
   ]
  },
  {
   "cell_type": "code",
   "execution_count": null,
   "id": "00be1096",
   "metadata": {},
   "outputs": [],
   "source": [
    "from statsmodels.stats.outliers_influence import variance_inflation_factor\n",
    "from statsmodels.tools.tools import add_constant\n",
    "import pandas as pd\n",
    "\n",
    "X = merged_data[numeric_cols].drop([\"Generation (MW)\"], axis=1)  # drop target variable\n",
    "\n",
    "# Add constant\n",
    "X_const = add_constant(X)\n",
    "\n",
    "# Compute VIF\n",
    "vif_df = pd.DataFrame()\n",
    "vif_df[\"Feature\"] = X.columns\n",
    "vif_df[\"VIF\"] = [\n",
    "    variance_inflation_factor(X_const.values, i + 1) for i in range(len(X.columns))\n",
    "]  # skip constant\n",
    "\n",
    "# Sort by VIF descending\n",
    "vif_df = vif_df.sort_values(by=\"VIF\", ascending=False)\n",
    "print(vif_df)"
   ]
  },
  {
   "cell_type": "code",
   "execution_count": null,
   "id": "121506bd",
   "metadata": {},
   "outputs": [],
   "source": []
  },
  {
   "cell_type": "code",
   "execution_count": null,
   "id": "588f8022",
   "metadata": {},
   "outputs": [],
   "source": []
  },
  {
   "cell_type": "code",
   "execution_count": null,
   "id": "3b27b247",
   "metadata": {},
   "outputs": [],
   "source": [
    "import pandas as pd\n",
    "import numpy as np\n",
    "import matplotlib.pyplot as plt\n",
    "from sklearn.linear_model import LinearRegression\n",
    "\n",
    "# Assuming merged_Data is your dataset\n",
    "# Separate the features (X) and target variable (y)\n",
    "X = merged_data[[\"temperature\", \"cloudcover_total\", \"direct_solar_radiation\"]]\n",
    "# Replace 'target_column_name' with your target variable\n",
    "y = merged_data[\n",
    "    \"Generation (MW)\"\n",
    "]  # Replace 'target_column_name' with your target variable"
   ]
  },
  {
   "cell_type": "code",
   "execution_count": null,
   "id": "15b17f77",
   "metadata": {},
   "outputs": [],
   "source": [
    "y"
   ]
  },
  {
   "cell_type": "code",
   "execution_count": null,
   "id": "aa85fa39",
   "metadata": {},
   "outputs": [],
   "source": [
    "import statsmodels.api as sm\n",
    "\n",
    "# Define features and target\n",
    "\n",
    "# Add constant (intercept)\n",
    "X = sm.add_constant(X)\n",
    "\n",
    "# Fit OLS model\n",
    "lin_model = sm.OLS(y, X).fit()\n",
    "\n",
    "# Show full summary\n",
    "print(lin_model.summary())"
   ]
  },
  {
   "cell_type": "code",
   "execution_count": null,
   "id": "658c6d0a",
   "metadata": {},
   "outputs": [],
   "source": [
    "import pandas as pd\n",
    "from prophet import Prophet\n",
    "import matplotlib.pyplot as plt\n",
    "\n",
    "# Assume merged_data is your DataFrame\n",
    "# It must have a datetime column and the target column\n",
    "\n",
    "df = merged_data[[\"date\", \"direct_solar_radiation\"]].copy()\n",
    "df.rename(columns={\"date\": \"ds\", \"direct_solar_radiation\": \"y\"}, inplace=True)\n",
    "\n",
    "model1 = Prophet(\n",
    "    growth=\"flat\",  # allow a gentle long-term trend\n",
    "    yearly_seasonality=True,\n",
    "    daily_seasonality=True,\n",
    "    weekly_seasonality=False,  # optional for temp\n",
    "    seasonality_mode=\"additive\",  # small change over time → additive is safer\n",
    ")\n",
    "\n",
    "model1.fit(df)\n",
    "# Forecast future\n",
    "future1 = model1.make_future_dataframe(periods=2500, freq=\"D\")  # change as needed\n",
    "forecast1 = model1.predict(future1)\n",
    "import numpy as np\n",
    "\n",
    "# Add stochastic component (volatility) to represent radiation variability\n",
    "# Set seed for reproducibility\n",
    "np.random.seed(42)\n",
    "\n",
    "# Define noise level — adjust this based on observed variation (e.g., ±50 W/m²)\n",
    "volatility_std = 5  # Change this depending on typical solar radiation variance\n",
    "\n",
    "# Limit to 5 years\n",
    "end_date = df[\"ds\"].min() + pd.DateOffset(years=9)\n",
    "forecast_subset_1 = forecast1[forecast1[\"ds\"] <= end_date].copy()\n",
    "\n",
    "# Add random noise to yhat predictions\n",
    "forecast_subset_1[\"yhat_stochastic\"] = forecast_subset_1[\"yhat\"] + np.random.normal(\n",
    "    loc=0, scale=volatility_std, size=len(forecast_subset_1)\n",
    ")\n",
    "\n",
    "# Plot deterministic vs. stochastic predictions\n",
    "plt.figure(figsize=(12, 6))\n",
    "plt.plot(\n",
    "    forecast_subset_1[\"ds\"],\n",
    "    forecast_subset_1[\"yhat\"],\n",
    "    label=\"Deterministic Forecast\",\n",
    "    alpha=0.8,\n",
    ")\n",
    "plt.plot(\n",
    "    forecast_subset_1[\"ds\"],\n",
    "    forecast_subset_1[\"yhat_stochastic\"],\n",
    "    label=\"Stochastic Forecast\",\n",
    "    linestyle=\"--\",\n",
    "    alpha=0.7,\n",
    ")\n",
    "plt.xlabel(\"Date\")\n",
    "plt.ylabel(\"Direct Solar Radiation (W/m²)\")\n",
    "plt.title(\"Prophet Forecast of Solar Radiation with Stochastic Noise\")\n",
    "plt.legend()\n",
    "plt.grid(True)\n",
    "plt.show()\n",
    "\n",
    "\n",
    "# Plot\n",
    "model1.plot(forecast1)\n",
    "plt.title(\"Forecast of Cloud Cover\")\n",
    "plt.xlabel(\"Time\")\n",
    "plt.ylabel(\"Cloud Cover Forecast\")\n",
    "plt.show()\n",
    "\n",
    "# Optional: seasonal components\n",
    "model1.plot_components(forecast1)\n",
    "plt.show()"
   ]
  },
  {
   "cell_type": "code",
   "execution_count": null,
   "id": "fe600547",
   "metadata": {},
   "outputs": [],
   "source": [
    "import pandas as pd\n",
    "from prophet import Prophet\n",
    "import matplotlib.pyplot as plt\n",
    "import numpy as np\n",
    "\n",
    "# Prep data\n",
    "df = merged_data[[\"date\", \"cloudcover_total\"]].copy()\n",
    "df.rename(columns={\"date\": \"ds\", \"cloudcover_total\": \"y\"}, inplace=True)\n",
    "\n",
    "# Fit Prophet model\n",
    "model2 = Prophet(\n",
    "    growth=\"flat\",\n",
    "    yearly_seasonality=True,\n",
    "    daily_seasonality=True,\n",
    "    weekly_seasonality=False,\n",
    "    seasonality_mode=\"additive\",\n",
    ")\n",
    "\n",
    "model2.fit(df)\n",
    "\n",
    "# Forecast\n",
    "future2 = model2.make_future_dataframe(periods=2500, freq=\"D\")\n",
    "forecast2 = model2.predict(future2)\n",
    "\n",
    "# --------------------------------------\n",
    "# ✅ Add stochastic noise\n",
    "# Estimate residual std dev from training data\n",
    "train_forecast = model2.predict(df)\n",
    "residuals = df[\"y\"] - train_forecast[\"yhat\"]\n",
    "residual_std = residuals.std()\n",
    "\n",
    "# Add random noise to simulate variation\n",
    "np.random.seed(42)  # for reproducibility\n",
    "forecast2[\"yhat_stochastic\"] = forecast2[\"yhat\"] + np.random.normal(\n",
    "    0, residual_std * 0.3, size=len(forecast2)\n",
    ")\n",
    "# Optional: clip to 0–100% cloud cover if necessary\n",
    "forecast2[\"yhat_stochastic\"] = forecast2[\"yhat_stochastic\"].clip(0, 100)\n",
    "\n",
    "# --------------------------------------"
   ]
  },
  {
   "cell_type": "code",
   "execution_count": null,
   "id": "23a81ca7",
   "metadata": {},
   "outputs": [],
   "source": [
    "import matplotlib.pyplot as plt\n",
    "\n",
    "# Plot deterministic vs stochastic forecast\n",
    "plt.figure(figsize=(14, 6))\n",
    "\n",
    "# Original Prophet forecast\n",
    "plt.plot(\n",
    "    forecast2[\"ds\"],\n",
    "    forecast2[\"yhat\"],\n",
    "    label=\"Deterministic Forecast\",\n",
    "    color=\"blue\",\n",
    "    alpha=0.5,\n",
    ")\n",
    "\n",
    "# Stochastic version (with noise added)\n",
    "plt.plot(\n",
    "    forecast2[\"ds\"],\n",
    "    forecast2[\"yhat_stochastic\"],\n",
    "    label=\"Stochastic Forecast\",\n",
    "    color=\"orange\",\n",
    "    linewidth=1,\n",
    ")\n",
    "\n",
    "# Optional: highlight the historical part\n",
    "plt.axvline(\n",
    "    x=df[\"ds\"].max(), color=\"gray\", linestyle=\"--\", alpha=0.6, label=\"Forecast Start\"\n",
    ")\n",
    "\n",
    "# Labels and title\n",
    "plt.title(\"Cloud Cover Forecast in Estonia (with Stochasticity)\", fontsize=16)\n",
    "plt.xlabel(\"Date\", fontsize=12)\n",
    "plt.ylabel(\"Cloud Cover (%)\", fontsize=12)\n",
    "plt.legend()\n",
    "plt.grid(True)\n",
    "plt.tight_layout()\n",
    "plt.show()"
   ]
  },
  {
   "cell_type": "code",
   "execution_count": null,
   "id": "8565f36b",
   "metadata": {},
   "outputs": [],
   "source": [
    "import pandas as pd\n",
    "from prophet import Prophet\n",
    "import matplotlib.pyplot as plt\n",
    "import numpy as np\n",
    "\n",
    "# Prepare data\n",
    "df = merged_data[[\"date\", \"temperature\"]].copy()\n",
    "df.rename(columns={\"date\": \"ds\", \"temperature\": \"y\"}, inplace=True)\n",
    "\n",
    "# Add time-based regressor: 0.02°C per year\n",
    "df[\"t\"] = (df[\"ds\"] - df[\"ds\"].min()) / np.timedelta64(1, \"Y\")\n",
    "df[\"linear_trend\"] = df[\"t\"] * 0.02  # Adjust slope here if needed\n",
    "\n",
    "# Initialize model\n",
    "model3 = Prophet(\n",
    "    growth=\"flat\",  # We'll use our custom trend instead\n",
    "    yearly_seasonality=True,\n",
    "    changepoint_prior_scale=0.001,\n",
    "    daily_seasonality=True,\n",
    "    weekly_seasonality=False,\n",
    "    seasonality_mode=\"additive\",\n",
    ")\n",
    "\n",
    "# Add custom regressor\n",
    "model3.add_regressor(\"linear_trend\")\n",
    "\n",
    "# Fit the model\n",
    "model3.fit(df[[\"ds\", \"y\", \"linear_trend\"]])\n",
    "\n",
    "# Make future dataframe\n",
    "future3 = model3.make_future_dataframe(periods=2500, freq=\"D\")\n",
    "\n",
    "# Add the same regressor to future\n",
    "future3[\"t\"] = (future3[\"ds\"] - df[\"ds\"].min()) / np.timedelta64(1, \"Y\")\n",
    "future3[\"linear_trend\"] = future3[\"t\"] * 0.02\n",
    "\n",
    "# Predict\n",
    "forecast3 = model3.predict(future3)\n",
    "# Add a stochastic component (volatility)\n",
    "# Define volatility — e.g., standard deviation = 1.0°C for Estonia\n",
    "np.random.seed(42)  # For reproducibility\n",
    "volatility_std = 1.0  # Adjust this based on how volatile you expect\n",
    "\n",
    "# Filter forecast for next 5 years\n",
    "end_date = df[\"ds\"].min() + np.timedelta64(9, \"Y\")\n",
    "forecast_subset_3 = forecast3[forecast3[\"ds\"] <= end_date].copy()\n",
    "\n",
    "# Add stochastic noise to yhat (predicted value)\n",
    "forecast_subset_3[\"yhat_stochastic\"] = forecast_subset_3[\"yhat\"] + np.random.normal(\n",
    "    0, volatility_std, size=len(forecast_subset_3)\n",
    ")\n",
    "\n",
    "# Plot deterministic vs. stochastic forecast\n",
    "plt.figure(figsize=(12, 6))\n",
    "plt.plot(\n",
    "    forecast_subset_3[\"ds\"],\n",
    "    forecast_subset_3[\"yhat\"],\n",
    "    label=\"Deterministic Forecast\",\n",
    "    alpha=0.8,\n",
    ")\n",
    "plt.plot(\n",
    "    forecast_subset_3[\"ds\"],\n",
    "    forecast_subset_3[\"yhat_stochastic\"],\n",
    "    label=\"Stochastic Forecast\",\n",
    "    linestyle=\"--\",\n",
    "    alpha=0.7,\n",
    ")\n",
    "plt.xlabel(\"Date\")\n",
    "plt.ylabel(\"Temperature (°C)\")\n",
    "plt.title(\"Prophet Forecast with +0.02°C/year Trend and Stochastic Noise\")\n",
    "plt.legend()\n",
    "plt.grid(True)\n",
    "plt.show()\n",
    "\n",
    "# Plot forecast\n",
    "model3.plot(forecast3)\n",
    "plt.title(\"Forecast of Temperature with +0.02°C/year Trend\")\n",
    "plt.xlabel(\"Time\")\n",
    "plt.ylabel(\"Temperature Forecast\")\n",
    "plt.show()\n",
    "\n",
    "# Plot seasonal components\n",
    "model3.plot_components(forecast3)\n",
    "plt.show()"
   ]
  },
  {
   "cell_type": "code",
   "execution_count": null,
   "id": "c02f4de9",
   "metadata": {},
   "outputs": [],
   "source": [
    "# Forecast 1: Solar Radiation (use yhat_stochastic if you added noise, otherwise yhat)\n",
    "forecast_radiation = forecast_subset_1[[\"ds\", \"yhat_stochastic\"]].copy()\n",
    "forecast_radiation.rename(\n",
    "    columns={\"yhat_stochastic\": \"direct_solar_radiation\"}, inplace=True\n",
    ")\n",
    "\n",
    "# Forecast 2: Cloud Cover — must use yhat_stochastic (assuming you've already added it)\n",
    "forecast_cloud = forecast2[[\"ds\", \"yhat_stochastic\"]].copy()\n",
    "forecast_cloud.rename(columns={\"yhat_stochastic\": \"cloudcover_total\"}, inplace=True)\n",
    "\n",
    "# Forecast 3: Temperature — use yhat_stochastic if you added it, or stick with yhat\n",
    "forecast_temp = forecast_subset_3[[\"ds\", \"yhat_stochastic\"]].copy()\n",
    "forecast_temp.rename(columns={\"yhat_stochastic\": \"temperature\"}, inplace=True)"
   ]
  },
  {
   "cell_type": "code",
   "execution_count": null,
   "id": "b9cb81ae",
   "metadata": {},
   "outputs": [],
   "source": [
    "forecast_subset_1"
   ]
  },
  {
   "cell_type": "code",
   "execution_count": null,
   "id": "ed674e96",
   "metadata": {},
   "outputs": [],
   "source": [
    "forecast2"
   ]
  },
  {
   "cell_type": "code",
   "execution_count": null,
   "id": "cfe2a431",
   "metadata": {},
   "outputs": [],
   "source": [
    "forecast_subset_3"
   ]
  },
  {
   "cell_type": "code",
   "execution_count": null,
   "id": "15ea6c40",
   "metadata": {},
   "outputs": [],
   "source": [
    "# Merge all three on 'ds'\n",
    "forecast_all = forecast_temp.merge(forecast_radiation, on=\"ds\", how=\"inner\")\n",
    "forecast_all = forecast_all.merge(forecast_cloud, on=\"ds\", how=\"inner\")"
   ]
  },
  {
   "cell_type": "code",
   "execution_count": null,
   "id": "74c2d337",
   "metadata": {},
   "outputs": [],
   "source": [
    "forecast_all"
   ]
  },
  {
   "cell_type": "code",
   "execution_count": null,
   "id": "5b5af97b",
   "metadata": {},
   "outputs": [],
   "source": [
    "forecast_all = forecast_all[forecast_all[\"ds\"] >= \"2023-05-30\"]"
   ]
  },
  {
   "cell_type": "code",
   "execution_count": null,
   "id": "7c95fbd9",
   "metadata": {},
   "outputs": [],
   "source": [
    "merged_data"
   ]
  },
  {
   "cell_type": "code",
   "execution_count": null,
   "id": "f780ecc3",
   "metadata": {},
   "outputs": [],
   "source": [
    "forecast_all[\"const\"] = 1.0"
   ]
  },
  {
   "cell_type": "code",
   "execution_count": null,
   "id": "6c455441",
   "metadata": {},
   "outputs": [],
   "source": [
    "lin_model.summary()"
   ]
  },
  {
   "cell_type": "code",
   "execution_count": null,
   "id": "7765bdeb",
   "metadata": {},
   "outputs": [],
   "source": [
    "forecast_all[\"Generation (MW)\"] = lin_model.predict(forecast_all.drop([\"ds\"], axis=1))"
   ]
  },
  {
   "cell_type": "code",
   "execution_count": null,
   "id": "50df48ae",
   "metadata": {},
   "outputs": [],
   "source": [
    "forecast_all"
   ]
  },
  {
   "cell_type": "code",
   "execution_count": null,
   "id": "685d5b18",
   "metadata": {},
   "outputs": [],
   "source": [
    "X"
   ]
  },
  {
   "cell_type": "code",
   "execution_count": null,
   "id": "4c21b615",
   "metadata": {},
   "outputs": [],
   "source": [
    "X[\"Generation (MW)\"] = y"
   ]
  },
  {
   "cell_type": "code",
   "execution_count": null,
   "id": "387613ad",
   "metadata": {},
   "outputs": [],
   "source": [
    "X[\"ds\"] = merged_data[\"date\"]"
   ]
  },
  {
   "cell_type": "code",
   "execution_count": null,
   "id": "0c31b667",
   "metadata": {},
   "outputs": [],
   "source": []
  },
  {
   "cell_type": "code",
   "execution_count": null,
   "id": "6954c377",
   "metadata": {},
   "outputs": [],
   "source": [
    "df = pd.concat([X, forecast_all])"
   ]
  },
  {
   "cell_type": "code",
   "execution_count": null,
   "id": "a9f14f66",
   "metadata": {},
   "outputs": [],
   "source": [
    "df"
   ]
  },
  {
   "cell_type": "code",
   "execution_count": null,
   "id": "feaefbef",
   "metadata": {},
   "outputs": [],
   "source": [
    "forecast_all.to_csv(\"forecasted_consumption.csv\")"
   ]
  },
  {
   "cell_type": "code",
   "execution_count": null,
   "id": "1e49576e",
   "metadata": {},
   "outputs": [],
   "source": [
    "# forecast_all[\"Generation (MW)\"] = np.expm1(forecast_all[\"Generation (MW)\"])"
   ]
  },
  {
   "cell_type": "code",
   "execution_count": null,
   "id": "e39d628e",
   "metadata": {},
   "outputs": [],
   "source": []
  },
  {
   "cell_type": "code",
   "execution_count": null,
   "id": "777101ca",
   "metadata": {},
   "outputs": [],
   "source": [
    "forecast_all[\"Generation (MW)\"] = forecast_all[\"Generation (MW)\"].apply(\n",
    "    lambda x: max(x, 0)\n",
    ")"
   ]
  },
  {
   "cell_type": "code",
   "execution_count": null,
   "id": "b4b959e1",
   "metadata": {},
   "outputs": [],
   "source": [
    "import matplotlib.pyplot as plt\n",
    "\n",
    "plt.figure(figsize=(12, 6))\n",
    "plt.plot(\n",
    "    forecast_all[\"ds\"],\n",
    "    forecast_all[\"Generation (MW)\"],\n",
    "    label=\"Generation (MW)\",\n",
    "    color=\"blue\",\n",
    ")\n",
    "plt.xlabel(\"Date\")\n",
    "plt.ylabel(\"Generation (MW)\")\n",
    "plt.title(\"Generation (MW) Over Time\")\n",
    "plt.legend()\n",
    "plt.grid(True, alpha=0.3)\n",
    "plt.tight_layout()\n",
    "plt.show()"
   ]
  },
  {
   "cell_type": "code",
   "execution_count": null,
   "id": "4676eae1",
   "metadata": {},
   "outputs": [],
   "source": []
  },
  {
   "cell_type": "code",
   "execution_count": null,
   "id": "e4005ef0",
   "metadata": {
    "vscode": {
     "languageId": "r"
    }
   },
   "outputs": [],
   "source": []
  },
  {
   "cell_type": "code",
   "execution_count": null,
   "id": "6b672ddd",
   "metadata": {},
   "outputs": [],
   "source": [
    "import matplotlib.pyplot as plt\n",
    "\n",
    "# Plot Generation (MW) over time\n",
    "plt.figure(figsize=(12, 6))\n",
    "plt.scatter(\n",
    "    merged_data[\"date\"],\n",
    "    merged_data[\"Generation (MW)\"],\n",
    "    label=\"Generation (MW)\",\n",
    "    color=\"blue\",\n",
    ")\n",
    "plt.xlabel(\"Date\")\n",
    "plt.ylabel(\"Generation (MW)\")\n",
    "plt.title(\"Generation Over Time\")\n",
    "plt.legend()\n",
    "plt.grid(True, alpha=0.3)\n",
    "plt.tight_layout()\n",
    "plt.show()"
   ]
  },
  {
   "cell_type": "code",
   "execution_count": null,
   "id": "dd9dfb4b",
   "metadata": {},
   "outputs": [],
   "source": []
  },
  {
   "cell_type": "code",
   "execution_count": null,
   "id": "0cd9ec82",
   "metadata": {},
   "outputs": [],
   "source": [
    "sns.scatterplot(df[\"ds\"], df[\"Generation (MW)\"])"
   ]
  },
  {
   "cell_type": "code",
   "execution_count": null,
   "id": "9ab7f1a8",
   "metadata": {},
   "outputs": [],
   "source": [
    "x = merged_data[\"Generation (MW)\"] / merged_data[\"output_one_pan\"]"
   ]
  },
  {
   "cell_type": "code",
   "execution_count": null,
   "id": "e1ff6646",
   "metadata": {},
   "outputs": [],
   "source": [
    "y = merged_data[\"date\"]"
   ]
  },
  {
   "cell_type": "code",
   "execution_count": null,
   "id": "f44ef4d1",
   "metadata": {},
   "outputs": [],
   "source": [
    "df = pd.DataFrame({\"Date\": y, \"Value\": x})"
   ]
  },
  {
   "cell_type": "code",
   "execution_count": null,
   "id": "20b592e1",
   "metadata": {},
   "outputs": [],
   "source": [
    "df[\"Date_ordinal\"] = df[\"Date\"].map(pd.Timestamp.toordinal)\n",
    "\n",
    "# Step 3: Detect outliers in Value using IQR\n",
    "Q1 = df[\"Value\"].quantile(0.25)\n",
    "Q3 = df[\"Value\"].quantile(0.75)\n",
    "IQR = Q3 - Q1\n",
    "lower_bound = Q1 - 1.5 * IQR\n",
    "upper_bound = Q3 + 1.5 * IQR\n",
    "\n",
    "df_clean = df[(df[\"Value\"] >= lower_bound) & (df[\"Value\"] <= upper_bound)]\n",
    "\n",
    "# Step 4: Regression on cleaned data\n",
    "X = df_clean[[\"Date_ordinal\"]]\n",
    "y = df_clean[\"Value\"]\n",
    "\n",
    "model = LinearRegression()\n",
    "model.fit(X, y)\n",
    "\n",
    "# Optional: plot\n",
    "plt.scatter(df_clean[\"Date\"], y, label=\"Cleaned data\")\n",
    "plt.plot(df_clean[\"Date\"], model.predict(X), color=\"red\", label=\"Regression line\")\n",
    "plt.xlabel(\"Date\")\n",
    "plt.ylabel(\"Value\")\n",
    "plt.legend()\n",
    "plt.show()"
   ]
  },
  {
   "cell_type": "code",
   "execution_count": null,
   "id": "e4404ee2",
   "metadata": {},
   "outputs": [],
   "source": [
    "import statsmodels.api as sm"
   ]
  },
  {
   "cell_type": "code",
   "execution_count": null,
   "id": "9f88a4fb",
   "metadata": {},
   "outputs": [],
   "source": [
    "X = df_clean[\"Date_ordinal\"]\n",
    "X = sm.add_constant(X)  # Add intercept\n",
    "y = df_clean[\"Value\"]\n",
    "model = sm.OLS(y, X).fit()\n",
    "\n",
    "# Step 4: Confidence intervals\n",
    "print(model.summary())\n",
    "print(\"\\nConfidence Intervals (95% default):\")\n",
    "print(model.conf_int())\n",
    "\n",
    "# Optional: Predict and plot with CI\n",
    "pred = model.get_prediction(X)\n",
    "pred_summary = pred.summary_frame(alpha=0.05)  # 95% CI\n",
    "\n",
    "plt.figure(figsize=(10, 6))\n",
    "plt.scatter(df_clean[\"Date\"], y, label=\"Data\")\n",
    "plt.plot(df_clean[\"Date\"], pred_summary[\"mean\"], color=\"red\", label=\"Regression line\")\n",
    "plt.fill_between(\n",
    "    df_clean[\"Date\"],\n",
    "    pred_summary[\"mean_ci_lower\"],\n",
    "    pred_summary[\"mean_ci_upper\"],\n",
    "    color=\"red\",\n",
    "    alpha=0.2,\n",
    "    label=\"95% CI\",\n",
    ")\n",
    "plt.xlabel(\"Date\")\n",
    "plt.ylabel(\"Value\")\n",
    "plt.legend()\n",
    "plt.title(\"Linear Regression with 95% Confidence Interval\")\n",
    "plt.show()"
   ]
  },
  {
   "cell_type": "code",
   "execution_count": null,
   "id": "b43960cc",
   "metadata": {},
   "outputs": [],
   "source": [
    "# Step 5: Predict today's value\n",
    "from datetime import date\n",
    "\n",
    "today = pd.to_datetime(date.today())\n",
    "today_ordinal = today.toordinal()\n",
    "\n",
    "# Manually construct with const and Date_ordinal\n",
    "X_today = pd.DataFrame(\n",
    "    {\"const\": [1], \"Date_ordinal\": [today_ordinal]}  # Intercept term\n",
    ")\n",
    "\n",
    "# Predict with confidence interval\n",
    "pred_today = model.get_prediction(X_today)\n",
    "summary_today = pred_today.summary_frame(alpha=0.05)  # 95% CI\n",
    "\n",
    "# Print prediction and CI\n",
    "mean = summary_today[\"mean\"].values[0]\n",
    "lower = summary_today[\"mean_ci_lower\"].values[0]\n",
    "upper = summary_today[\"mean_ci_upper\"].values[0]\n",
    "\n",
    "print(f\"Predicted value for {today.date()}: {mean:.2f}\")\n",
    "print(f\"95% Confidence Interval: [{lower:.2f}, {upper:.2f}]\")"
   ]
  },
  {
   "cell_type": "code",
   "execution_count": null,
   "id": "9e49e8fa",
   "metadata": {},
   "outputs": [],
   "source": [
    "y = df_clean[\"Date\"].map(pd.Timestamp.toordinal).values.reshape(-1, 1)"
   ]
  },
  {
   "cell_type": "code",
   "execution_count": null,
   "id": "7a349d19",
   "metadata": {},
   "outputs": [],
   "source": [
    "print(df.tail())"
   ]
  },
  {
   "cell_type": "code",
   "execution_count": null,
   "id": "00358b51",
   "metadata": {},
   "outputs": [],
   "source": [
    "model = LinearRegression().fit(y, df[\"Value\"])"
   ]
  },
  {
   "cell_type": "code",
   "execution_count": null,
   "id": "36061f24",
   "metadata": {},
   "outputs": [],
   "source": [
    "model.intercept_"
   ]
  },
  {
   "cell_type": "code",
   "execution_count": null,
   "id": "347e0b9f",
   "metadata": {},
   "outputs": [],
   "source": [
    "plt.scatter(y, x)"
   ]
  },
  {
   "cell_type": "code",
   "execution_count": null,
   "id": "1fdd27a9",
   "metadata": {},
   "outputs": [],
   "source": []
  }
 ],
 "metadata": {
  "kernelspec": {
   "display_name": "tensorflow",
   "language": "python",
   "name": "python3"
  },
  "language_info": {
   "codemirror_mode": {
    "name": "ipython",
    "version": 3
   },
   "file_extension": ".py",
   "mimetype": "text/x-python",
   "name": "python",
   "nbconvert_exporter": "python",
   "pygments_lexer": "ipython3",
   "version": "3.8.18"
  }
 },
 "nbformat": 4,
 "nbformat_minor": 5
}
