{
 "cells": [
  {
   "cell_type": "code",
   "execution_count": null,
   "id": "ae05a66a",
   "metadata": {},
   "outputs": [],
   "source": [
    "import pandas as pd\n",
    "import seaborn as sns"
   ]
  },
  {
   "cell_type": "code",
   "execution_count": null,
   "id": "c333820f",
   "metadata": {},
   "outputs": [],
   "source": [
    "consump1 = pd.read_csv(\"load_val_2021.csv\", delimiter=\";\")\n",
    "consump2 = pd.read_csv(\"load_val_2022.csv\", delimiter=\";\")\n",
    "consump3 = pd.read_csv(\"load_val_2023.csv\", delimiter=\"\\t\")\n",
    "consump4 = pd.read_csv(\"load_val_2024.csv\", delimiter=\"\\t\")"
   ]
  },
  {
   "cell_type": "code",
   "execution_count": null,
   "id": "2f37c4bb",
   "metadata": {},
   "outputs": [],
   "source": [
    "consump4"
   ]
  },
  {
   "cell_type": "code",
   "execution_count": null,
   "id": "3f4ca75b",
   "metadata": {},
   "outputs": [],
   "source": [
    "consump3"
   ]
  },
  {
   "cell_type": "code",
   "execution_count": null,
   "id": "4efdcaa3",
   "metadata": {},
   "outputs": [],
   "source": [
    "consump = pd.concat([consump1, consump2, consump3, consump4])"
   ]
  },
  {
   "cell_type": "code",
   "execution_count": null,
   "id": "bc33c35a",
   "metadata": {},
   "outputs": [],
   "source": [
    "consump.drop(\n",
    "    [\"MeasureItem\", \"DateUTC\", \"TimeFrom\", \"TimeTo\", \"UpdateDate\", \"CreateDate\"],\n",
    "    axis=1,\n",
    "    inplace=True,\n",
    ")"
   ]
  },
  {
   "cell_type": "code",
   "execution_count": null,
   "id": "dd529d32",
   "metadata": {},
   "outputs": [],
   "source": [
    "unique_countries = consump[\"CountryCode\"].unique()"
   ]
  },
  {
   "cell_type": "code",
   "execution_count": null,
   "id": "7338e277",
   "metadata": {},
   "outputs": [],
   "source": [
    "# Filter the dataset for specific country codes\n",
    "filtered_consump = consump[consump[\"CountryCode\"].isin([\"EE\", \"LV\", \"LT\"])]\n",
    "\n",
    "# Rename the country codes\n",
    "filtered_consump[\"CountryCode\"] = filtered_consump[\"CountryCode\"].replace(\n",
    "    {\"EE\": \"Estonia\", \"LV\": \"Latvia\", \"LT\": \"Lithuania\"}\n",
    ")"
   ]
  },
  {
   "cell_type": "code",
   "execution_count": null,
   "id": "c49faf66",
   "metadata": {},
   "outputs": [],
   "source": [
    "filtered_consump"
   ]
  },
  {
   "cell_type": "code",
   "execution_count": null,
   "id": "a9f9a816",
   "metadata": {},
   "outputs": [],
   "source": [
    "filtered_consump.rename(columns={\"DateShort\": \"DateUTC\"}, inplace=True)"
   ]
  },
  {
   "cell_type": "code",
   "execution_count": null,
   "id": "7642f4be",
   "metadata": {},
   "outputs": [],
   "source": [
    "filtered_consump"
   ]
  },
  {
   "cell_type": "code",
   "execution_count": null,
   "id": "de998434",
   "metadata": {},
   "outputs": [],
   "source": [
    "# Group by DateUTC and CountryCode, then calculate the average of the Value column\n",
    "average_by_date_country = (\n",
    "    filtered_consump.groupby([\"DateUTC\", \"CountryCode\"])[\"Value\"].sum().reset_index()\n",
    ")\n",
    "\n",
    "average_by_date_country"
   ]
  },
  {
   "cell_type": "code",
   "execution_count": null,
   "id": "7c1f15cd",
   "metadata": {},
   "outputs": [],
   "source": [
    "average_by_date_country.to_csv(\"consump.csv\")"
   ]
  },
  {
   "cell_type": "code",
   "execution_count": null,
   "id": "7fe7e7c3",
   "metadata": {},
   "outputs": [],
   "source": [
    "filtered_consump"
   ]
  },
  {
   "cell_type": "code",
   "execution_count": null,
   "id": "768628d9",
   "metadata": {},
   "outputs": [],
   "source": [
    "filtered_consump = (\n",
    "    filtered_consump.groupby([\"DateUTC\", \"CountryCode\"])[\"Value\"].mean().reset_index()\n",
    ")"
   ]
  },
  {
   "cell_type": "code",
   "execution_count": null,
   "id": "569930aa",
   "metadata": {},
   "outputs": [],
   "source": [
    "filtered_consump.to_csv(\"consump.csv\")"
   ]
  },
  {
   "cell_type": "code",
   "execution_count": null,
   "id": "c8acb648",
   "metadata": {},
   "outputs": [],
   "source": [
    "# Convert the DateUTC column to string and chop off the time part\n",
    "filtered_consump[\"DateUTC\"] = filtered_consump[\"DateUTC\"].str.split(\" \").str[0]\n",
    "\n",
    "# Convert the modified DateUTC column to datetime\n",
    "filtered_consump[\"DateUTC\"] = pd.to_datetime(\n",
    "    filtered_consump[\"DateUTC\"], format=\"%d-%m-%Y\"\n",
    ")\n",
    "\n",
    "# Group by the date and calculate the average of the Value column\n",
    "average_by_date = (\n",
    "    filtered_consump.groupby([\"DateUTC\", \"CountryCode\"])[\"Value\"].mean().reset_index()\n",
    ")\n",
    "\n",
    "average_by_date"
   ]
  },
  {
   "cell_type": "code",
   "execution_count": null,
   "id": "afde2460",
   "metadata": {},
   "outputs": [],
   "source": [
    "average_by_date"
   ]
  },
  {
   "cell_type": "code",
   "execution_count": null,
   "id": "2496b19d",
   "metadata": {},
   "outputs": [],
   "source": [
    "average_by_date.to_csv(\"consump.csv\")"
   ]
  },
  {
   "cell_type": "code",
   "execution_count": null,
   "id": "6453fb0e",
   "metadata": {},
   "outputs": [],
   "source": [
    "filtered_consump.drop(\n",
    "    [\"DateShort\", \"TimeFrom\", \"TimeTo\", \"CreateDate\", \"UpdateDate\"],\n",
    "    axis=1,\n",
    "    inplace=True,\n",
    ")"
   ]
  },
  {
   "cell_type": "code",
   "execution_count": null,
   "id": "f2ccbb3d",
   "metadata": {},
   "outputs": [],
   "source": [
    "filtered_consump.drop(\"MeasureItem\", axis=1, inplace=True)"
   ]
  },
  {
   "cell_type": "code",
   "execution_count": null,
   "id": "5b388e1e",
   "metadata": {},
   "outputs": [],
   "source": [
    "filtered_consump"
   ]
  },
  {
   "cell_type": "code",
   "execution_count": null,
   "id": "2bf50efc",
   "metadata": {},
   "outputs": [],
   "source": []
  },
  {
   "cell_type": "code",
   "execution_count": null,
   "id": "fac8db59",
   "metadata": {},
   "outputs": [],
   "source": []
  },
  {
   "cell_type": "code",
   "execution_count": null,
   "id": "743c4336",
   "metadata": {},
   "outputs": [],
   "source": []
  },
  {
   "cell_type": "code",
   "execution_count": null,
   "id": "4ccfaa2f",
   "metadata": {},
   "outputs": [],
   "source": []
  },
  {
   "cell_type": "code",
   "execution_count": null,
   "id": "e38f5931",
   "metadata": {},
   "outputs": [],
   "source": []
  }
 ],
 "metadata": {
  "kernelspec": {
   "display_name": "tensorflow",
   "language": "python",
   "name": "python3"
  },
  "language_info": {
   "codemirror_mode": {
    "name": "ipython",
    "version": 3
   },
   "file_extension": ".py",
   "mimetype": "text/x-python",
   "name": "python",
   "nbconvert_exporter": "python",
   "pygments_lexer": "ipython3",
   "version": "3.8.18"
  }
 },
 "nbformat": 4,
 "nbformat_minor": 5
}
