{
 "cells": [
  {
   "cell_type": "code",
   "execution_count": null,
   "id": "82100dd3",
   "metadata": {},
   "outputs": [],
   "source": [
    "import pandas as pd\n",
    "import seaborn as sns"
   ]
  },
  {
   "cell_type": "code",
   "execution_count": null,
   "id": "1be05833",
   "metadata": {},
   "outputs": [],
   "source": [
    "produc = pd.read_csv(\"baltic_energy_type.csv\")"
   ]
  },
  {
   "cell_type": "code",
   "execution_count": null,
   "id": "75e60528",
   "metadata": {},
   "outputs": [],
   "source": [
    "# correlation of consumption and production over time in estonia"
   ]
  },
  {
   "cell_type": "code",
   "execution_count": null,
   "id": "2b109e7e",
   "metadata": {},
   "outputs": [],
   "source": [
    "consump[\"DateUTC\"] = pd.to_datetime(consump[\"DateUTC\"], format=\"%d-%m-%Y\")"
   ]
  },
  {
   "cell_type": "code",
   "execution_count": null,
   "id": "d3bae764",
   "metadata": {},
   "outputs": [],
   "source": []
  },
  {
   "cell_type": "code",
   "execution_count": null,
   "id": "b253d096",
   "metadata": {},
   "outputs": [],
   "source": [
    "produc = pd.read_csv(\"baltic_energy_type.csv\")"
   ]
  },
  {
   "cell_type": "code",
   "execution_count": null,
   "id": "e4c04580",
   "metadata": {},
   "outputs": [],
   "source": [
    "produc"
   ]
  },
  {
   "cell_type": "code",
   "execution_count": null,
   "id": "a5b1a47b",
   "metadata": {},
   "outputs": [],
   "source": [
    "# Filter for oil shale production\n",
    "oil_shale_produc = produc[produc[\"Production Type\"] == \"Fossil Oil shale\"]\n",
    "\n",
    "# Filter for all other production types\n",
    "else_produc = produc[produc[\"Production Type\"] != \"Fossil Oil shale\"]"
   ]
  },
  {
   "cell_type": "code",
   "execution_count": null,
   "id": "1af63807",
   "metadata": {},
   "outputs": [],
   "source": [
    "else_produc"
   ]
  },
  {
   "cell_type": "code",
   "execution_count": null,
   "id": "3bdbb6f4",
   "metadata": {},
   "outputs": [],
   "source": [
    "else_produc.groupby(\"MTU (CET/CEST)\").sum(numeric_only=True)"
   ]
  },
  {
   "cell_type": "code",
   "execution_count": null,
   "id": "faf5f927",
   "metadata": {},
   "outputs": [],
   "source": [
    "else_produc[\"MTU (CET/CEST)\"] = pd.to_datetime(\n",
    "    else_produc[\"MTU (CET/CEST)\"], format=\"%d/%m/%Y\"\n",
    ")\n",
    "oil_shale_produc[\"MTU (CET/CEST)\"] = pd.to_datetime(\n",
    "    oil_shale_produc[\"MTU (CET/CEST)\"], format=\"%d/%m/%Y\"\n",
    ")"
   ]
  },
  {
   "cell_type": "code",
   "execution_count": null,
   "id": "d50383b8",
   "metadata": {},
   "outputs": [],
   "source": [
    "consump"
   ]
  },
  {
   "cell_type": "code",
   "execution_count": null,
   "id": "c763a264",
   "metadata": {},
   "outputs": [],
   "source": []
  },
  {
   "cell_type": "code",
   "execution_count": null,
   "id": "78924545",
   "metadata": {},
   "outputs": [],
   "source": [
    "# Merge consump with oil_shale_produc\n",
    "oil_shale_merged = pd.merge(\n",
    "    consump.rename(columns={\"CountryCode\": \"Country\", \"DateUTC\": \"Date\"}),\n",
    "    oil_shale_produc.rename(columns={\"Area\": \"Country\", \"MTU (CET/CEST)\": \"Date\"}),\n",
    "    on=[\"Country\", \"Date\"],\n",
    "    how=\"inner\",\n",
    ")\n",
    "\n",
    "# Merge consump with else_produc\n",
    "non_oil_shale_merged = pd.merge(\n",
    "    consump.rename(columns={\"CountryCode\": \"Country\", \"DateUTC\": \"Date\"}),\n",
    "    else_produc.rename(columns={\"Area\": \"Country\", \"MTU (CET/CEST)\": \"Date\"}),\n",
    "    on=[\"Country\", \"Date\"],\n",
    "    how=\"inner\",\n",
    ")"
   ]
  },
  {
   "cell_type": "code",
   "execution_count": null,
   "id": "321bc1ee",
   "metadata": {},
   "outputs": [],
   "source": [
    "oil_shale_merged"
   ]
  },
  {
   "cell_type": "code",
   "execution_count": null,
   "id": "5211ffd7",
   "metadata": {},
   "outputs": [],
   "source": [
    "oil_shale_merged[\"lagged_production\"] = oil_shale_merged[\"Generation (MW)\"].shift(1)"
   ]
  },
  {
   "cell_type": "code",
   "execution_count": null,
   "id": "7b8fef90",
   "metadata": {},
   "outputs": [],
   "source": [
    "oil_shale_merged[\"lagged_consumption\"] = oil_shale_merged[\"Value\"].shift(1)"
   ]
  },
  {
   "cell_type": "code",
   "execution_count": null,
   "id": "b55e8be8",
   "metadata": {},
   "outputs": [],
   "source": [
    "non_oil_shale_merged[\"lagged_production\"] = non_oil_shale_merged[\n",
    "    \"Generation (MW)\"\n",
    "].shift(1)"
   ]
  },
  {
   "cell_type": "code",
   "execution_count": null,
   "id": "4cccb73c",
   "metadata": {},
   "outputs": [],
   "source": [
    "non_oil_shale_merged[\"lagged_consumption\"] = non_oil_shale_merged[\"Value\"].shift(1)"
   ]
  },
  {
   "cell_type": "code",
   "execution_count": null,
   "id": "5e5581d2",
   "metadata": {},
   "outputs": [],
   "source": [
    "import matplotlib.pyplot as plt\n",
    "\n",
    "# Scatter plot for consumption vs production\n",
    "plt.figure(figsize=(10, 6))\n",
    "plt.scatter(\n",
    "    oil_shale_merged[\"Value\"],\n",
    "    oil_shale_merged[\"lagged_production\"],\n",
    "    alpha=0.5,\n",
    "    color=\"blue\",\n",
    ")\n",
    "plt.xlabel(\"Consumption (MW)\")\n",
    "plt.ylabel(\"Production (MW)\")\n",
    "plt.title(\"Scatter Plot of Consumption vs Oil Shale Production\")\n",
    "plt.grid(False)\n",
    "plt.tight_layout()\n",
    "plt.show()"
   ]
  },
  {
   "cell_type": "code",
   "execution_count": null,
   "id": "e0a8f2b4",
   "metadata": {},
   "outputs": [],
   "source": [
    "oil_shale_merged"
   ]
  },
  {
   "cell_type": "code",
   "execution_count": null,
   "id": "69206db5",
   "metadata": {},
   "outputs": [],
   "source": [
    "non_oil_shale_merged = non_oil_shale_merged.groupby(\"Date\").sum(numeric_only=True)"
   ]
  },
  {
   "cell_type": "code",
   "execution_count": null,
   "id": "80c2900b",
   "metadata": {},
   "outputs": [],
   "source": [
    "non_oil_shale_merged = non_oil_shale_merged.reset_index()"
   ]
  },
  {
   "cell_type": "code",
   "execution_count": null,
   "id": "093fdba7",
   "metadata": {},
   "outputs": [],
   "source": [
    "non_oil_shale_merged.drop([\"Unnamed: 0\"], axis=1, inplace=True)"
   ]
  },
  {
   "cell_type": "code",
   "execution_count": null,
   "id": "40336666",
   "metadata": {},
   "outputs": [],
   "source": [
    "non_oil_shale_merged[\"Value\"] = non_oil_shale_merged[\"Date\"].map(\n",
    "    oil_shale_merged.set_index(\"Date\")[\"Value\"]\n",
    ")"
   ]
  },
  {
   "cell_type": "code",
   "execution_count": null,
   "id": "0422ae05",
   "metadata": {},
   "outputs": [],
   "source": [
    "non_oil_shale_merged"
   ]
  },
  {
   "cell_type": "code",
   "execution_count": null,
   "id": "2fe42f81",
   "metadata": {},
   "outputs": [],
   "source": [
    "oil_shale_merged"
   ]
  },
  {
   "cell_type": "code",
   "execution_count": null,
   "id": "6766f476",
   "metadata": {},
   "outputs": [],
   "source": [
    "import matplotlib.pyplot as plt\n",
    "\n",
    "# Scatter plot for consumption vs production\n",
    "plt.figure(figsize=(10, 6))\n",
    "plt.scatter(\n",
    "    non_oil_shale_merged[\"Value\"],\n",
    "    non_oil_shale_merged[\"Generation (MW)\"],\n",
    "    alpha=0.5,\n",
    "    color=\"blue\",\n",
    ")\n",
    "plt.xlabel(\"Consumption (MW)\")\n",
    "plt.ylabel(\"Production (MW)\")\n",
    "plt.title(\"Scatter Plot of Consumption vs Non Oil Shale Production\")\n",
    "plt.grid(False)\n",
    "plt.tight_layout()\n",
    "plt.show()"
   ]
  },
  {
   "cell_type": "code",
   "execution_count": null,
   "id": "9a8ba0da",
   "metadata": {},
   "outputs": [],
   "source": [
    "oil_shale_merged"
   ]
  },
  {
   "cell_type": "code",
   "execution_count": null,
   "id": "22887608",
   "metadata": {},
   "outputs": [],
   "source": [
    "# Convert the 'MTU (CET/CEST)' column to datetime to extract the date\n",
    "produc[\"Date\"] = pd.to_datetime(produc[\"MTU (CET/CEST)\"], format=\"%d/%m/%Y\").dt.date\n",
    "\n",
    "# Group by 'Date' and 'Area' and sum the 'Generation (MW)'\n",
    "# daily_production = (\n",
    "#     produc.groupby([\"Date\", \"Area\"])[\"Generation (MW)\"].sum().reset_index()\n",
    "# )\n",
    "\n",
    "# Rename columns for clarity\n",
    "produc.rename(\n",
    "    columns={\"Area\": \"Country\", \"Generation (MW)\": \"Production (MW)\"},\n",
    "    inplace=True,\n",
    ")"
   ]
  },
  {
   "cell_type": "code",
   "execution_count": null,
   "id": "bc61f25b",
   "metadata": {},
   "outputs": [],
   "source": [
    "daily_production = produc"
   ]
  },
  {
   "cell_type": "code",
   "execution_count": null,
   "id": "080a45e2",
   "metadata": {},
   "outputs": [],
   "source": [
    "daily_production[\"Date\"] = pd.to_datetime(daily_production[\"Date\"])"
   ]
  },
  {
   "cell_type": "code",
   "execution_count": null,
   "id": "9358e84c",
   "metadata": {},
   "outputs": [],
   "source": [
    "consump = consump.rename(\n",
    "    columns={\"DateUTC\": \"Date\", \"CountryCode\": \"Country\", \"Value\": \"Consumption (MW)\"}\n",
    ")\n",
    "consump.drop([\"Unnamed: 0\"], axis=1, inplace=True)"
   ]
  },
  {
   "cell_type": "code",
   "execution_count": null,
   "id": "353d94fb",
   "metadata": {},
   "outputs": [],
   "source": [
    "merged_data = pd.merge(consump, daily_production, on=[\"Date\", \"Country\"], how=\"inner\")\n",
    "merged_data"
   ]
  },
  {
   "cell_type": "code",
   "execution_count": null,
   "id": "5f51d987",
   "metadata": {},
   "outputs": [],
   "source": []
  },
  {
   "cell_type": "code",
   "execution_count": null,
   "id": "c1603fe2",
   "metadata": {},
   "outputs": [],
   "source": [
    "import matplotlib.pyplot as plt\n",
    "\n",
    "# Filter data for Estonia\n",
    "estonia_data = merged_data[merged_data[\"Country\"] == \"Estonia\"]\n",
    "# estonia_data = estonia_data[merged_data[\"Production Type\"] != \"Fossil Oil shale\"]\n",
    "# Get unique production types\n",
    "production_types = estonia_data[\"Production Type\"].unique()\n",
    "\n",
    "# Create the plot\n",
    "plt.figure(figsize=(14, 8))\n",
    "\n",
    "# Plot consumption\n",
    "plt.plot(\n",
    "    estonia_data[\"Date\"],\n",
    "    estonia_data[\"Consumption (MW)\"],\n",
    "    label=\"Consumption (MW)\",\n",
    "    color=\"black\",\n",
    "    linewidth=2,\n",
    ")\n",
    "\n",
    "# Plot production by type\n",
    "for prod_type in production_types:\n",
    "    prod_data = estonia_data[estonia_data[\"Production Type\"] == prod_type]\n",
    "    plt.plot(\n",
    "        prod_data[\"Date\"],\n",
    "        prod_data[\"Production (MW)\"],\n",
    "        label=f\"Production ({prod_type})\",\n",
    "    )\n",
    "\n",
    "# Add labels, title, and legend\n",
    "plt.xlabel(\"Date\")\n",
    "plt.ylabel(\"MW\")\n",
    "plt.title(\"Consumption and Production by Type in Estonia Over Time\")\n",
    "plt.legend()\n",
    "plt.grid()\n",
    "plt.tight_layout()\n",
    "plt.show()"
   ]
  },
  {
   "cell_type": "code",
   "execution_count": null,
   "id": "ab9bd32b",
   "metadata": {},
   "outputs": [],
   "source": [
    "import matplotlib.pyplot as plt"
   ]
  },
  {
   "cell_type": "code",
   "execution_count": null,
   "id": "3674560e",
   "metadata": {},
   "outputs": [],
   "source": [
    "estonia_df = merged_data[merged_data[\"Country\"] == \"Estonia\"]\n",
    "estonia_df = estonia_df[estonia_df[\"Production Type\"] != \"Fossil Oil shale\"]"
   ]
  },
  {
   "cell_type": "code",
   "execution_count": null,
   "id": "397dddb9",
   "metadata": {},
   "outputs": [],
   "source": [
    "estonia_df"
   ]
  },
  {
   "cell_type": "code",
   "execution_count": null,
   "id": "c50254dc",
   "metadata": {},
   "outputs": [],
   "source": [
    "estonia_df.drop([\"Country\"], axis=1, inplace=True)"
   ]
  },
  {
   "cell_type": "code",
   "execution_count": null,
   "id": "336cb11d",
   "metadata": {},
   "outputs": [],
   "source": [
    "estonia_df = estonia_df.groupby(\"Date\").sum(numeric_only=True)"
   ]
  },
  {
   "cell_type": "code",
   "execution_count": null,
   "id": "9e41637f",
   "metadata": {},
   "outputs": [],
   "source": []
  },
  {
   "cell_type": "code",
   "execution_count": null,
   "id": "3a1c867d",
   "metadata": {},
   "outputs": [],
   "source": [
    "# Apply a rolling average to smooth the data\n",
    "estonia_df[\"Smoothed Production (MW)\"] = (\n",
    "    estonia_df[\"Production (MW)\"].rolling(window=7, center=True).mean()\n",
    ")\n",
    "estonia_df[\"Smoothed Consumption (MW)\"] = (\n",
    "    estonia_df[\"Consumption (MW)\"].rolling(window=7, center=True).mean()\n",
    ")\n",
    "\n",
    "# Plot the smoothed data\n",
    "plt.figure(figsize=(12, 6))\n",
    "plt.plot(\n",
    "    estonia_df[\"Date\"],\n",
    "    estonia_df[\"Smoothed Production (MW)\"],\n",
    "    label=\"Smoothed Production (MW)\",\n",
    "    color=\"red\",\n",
    ")\n",
    "plt.plot(\n",
    "    estonia_df[\"Date\"],\n",
    "    estonia_df[\"Smoothed Consumption (MW)\"],\n",
    "    label=\"Smoothed Consumption (MW)\",\n",
    "    color=\"blue\",\n",
    ")\n",
    "\n",
    "# Add labels, title, and legend\n",
    "plt.xlabel(\"Date\")\n",
    "plt.ylabel(\"MW\")\n",
    "plt.title(\"Smoothed Consumption and Production in Estonia Over Time\")\n",
    "plt.legend()\n",
    "plt.grid()\n",
    "plt.tight_layout()\n",
    "plt.show()"
   ]
  },
  {
   "cell_type": "code",
   "execution_count": null,
   "id": "ad59c97a",
   "metadata": {},
   "outputs": [],
   "source": [
    "estonia_df"
   ]
  },
  {
   "cell_type": "code",
   "execution_count": null,
   "id": "84fb5c5c",
   "metadata": {},
   "outputs": [],
   "source": [
    "estonia_df = estonia_df.reset_index()"
   ]
  },
  {
   "cell_type": "code",
   "execution_count": null,
   "id": "cf1b9b9a",
   "metadata": {},
   "outputs": [],
   "source": [
    "estonia_df.columns"
   ]
  },
  {
   "cell_type": "code",
   "execution_count": null,
   "id": "b509d51c",
   "metadata": {},
   "outputs": [],
   "source": [
    "estonia_df = estonia_df.drop(columns=[\"Consumption (MW)\"])\n",
    "estonia_df = estonia_df.merge(\n",
    "    consump[consump[\"Country\"] == \"Estonia\"][[\"Date\", \"Consumption (MW)\"]],\n",
    "    on=\"Date\",\n",
    "    how=\"left\",\n",
    ")"
   ]
  },
  {
   "cell_type": "code",
   "execution_count": null,
   "id": "67e88e36",
   "metadata": {},
   "outputs": [],
   "source": [
    "estonia_df"
   ]
  },
  {
   "cell_type": "code",
   "execution_count": null,
   "id": "ee9df0df",
   "metadata": {},
   "outputs": [],
   "source": [
    "estonia_df"
   ]
  },
  {
   "cell_type": "code",
   "execution_count": null,
   "id": "15d15a9d",
   "metadata": {},
   "outputs": [],
   "source": []
  },
  {
   "cell_type": "code",
   "execution_count": null,
   "id": "8675c223",
   "metadata": {},
   "outputs": [],
   "source": []
  },
  {
   "cell_type": "code",
   "execution_count": null,
   "id": "12d9bf35",
   "metadata": {},
   "outputs": [],
   "source": [
    "estonia_df"
   ]
  },
  {
   "cell_type": "code",
   "execution_count": null,
   "id": "919d6f70",
   "metadata": {},
   "outputs": [],
   "source": [
    "fig, ax1 = plt.subplots(figsize=(10, 6))\n",
    "\n",
    "# Plot consumption on the left y-axis\n",
    "ax1.set_xlabel(\"Date\")\n",
    "ax1.set_ylabel(\"Consumption (MW) \", color=\"tab:blue\")\n",
    "ax1.plot(\n",
    "    estonia_df[\"Date\"],\n",
    "    estonia_df[\"Smoothed Consumption (MW)\"],\n",
    "    color=\"tab:blue\",\n",
    "    label=\"Consumption\",\n",
    ")\n",
    "ax1.tick_params(axis=\"y\", labelcolor=\"tab:blue\")\n",
    "\n",
    "# Create a second y-axis for production\n",
    "ax2 = ax1.twinx()\n",
    "ax2.set_ylabel(\"Production (MW)\", color=\"tab:red\")\n",
    "ax2.plot(\n",
    "    estonia_df[\"Date\"],\n",
    "    estonia_df[\"Smoothed Production (MW)\"],\n",
    "    color=\"tab:red\",\n",
    "    label=\"Production\",\n",
    ")\n",
    "ax2.tick_params(axis=\"y\", labelcolor=\"tab:red\")\n",
    "\n",
    "# Title and layout\n",
    "plt.title(\n",
    "    \"Consumption of Electricity and Production of Non-Oil-Shale Electricity in Estonia Over Time\"\n",
    ")\n",
    "fig.tight_layout()\n",
    "plt.show()"
   ]
  },
  {
   "cell_type": "code",
   "execution_count": null,
   "id": "d45ba87b",
   "metadata": {},
   "outputs": [],
   "source": []
  },
  {
   "cell_type": "code",
   "execution_count": null,
   "id": "19627bf8",
   "metadata": {},
   "outputs": [],
   "source": [
    "import matplotlib.pyplot as plt\n",
    "\n",
    "# Filter data for Estonia\n",
    "estonia_data = merged_data[merged_data[\"Country\"] == \"Estonia\"]\n",
    "estonia_data = estonia_data[estonia_data[\"Production Type\"] == \"Fossil Oil Shale\"]\n",
    "# Plot consumption and total production\n",
    "plt.figure(figsize=(12, 6))\n",
    "plt.plot(\n",
    "    estonia_data[\"Date\"],\n",
    "    estonia_data[\"Consumption (MW)\"],\n",
    "    label=\"Consumption (MW)\",\n",
    "    color=\"blue\",\n",
    ")\n",
    "plt.plot(\n",
    "    estonia_data[\"Date\"],\n",
    "    estonia_data[\"Total Production (MW)\"],\n",
    "    label=\"Total Production (MW)\",\n",
    "    color=\"green\",\n",
    ")\n",
    "\n",
    "# Add labels, title, and legend\n",
    "plt.xlabel(\"Date\")\n",
    "plt.ylabel(\"MW\")\n",
    "plt.title(\"Consumption and Total Production in Estonia Over Time\")\n",
    "plt.legend()\n",
    "plt.grid()\n",
    "plt.tight_layout()\n",
    "plt.show()"
   ]
  },
  {
   "cell_type": "code",
   "execution_count": null,
   "id": "9840ec25",
   "metadata": {},
   "outputs": [],
   "source": [
    "import matplotlib.pyplot as plt\n",
    "\n",
    "# Filter data for Estonia\n",
    "estonia_data = merged_data[merged_data[\"Country\"] == \"Latvia\"]\n",
    "\n",
    "# Plot consumption and total production\n",
    "plt.figure(figsize=(12, 6))\n",
    "plt.plot(\n",
    "    estonia_data[\"Date\"],\n",
    "    estonia_data[\"Consumption (MW)\"],\n",
    "    label=\"Consumption (MW)\",\n",
    "    color=\"blue\",\n",
    ")\n",
    "plt.plot(\n",
    "    estonia_data[\"Date\"],\n",
    "    estonia_data[\"Total Production (MW)\"],\n",
    "    label=\"Total Production (MW)\",\n",
    "    color=\"green\",\n",
    ")\n",
    "\n",
    "# Add labels, title, and legend\n",
    "plt.xlabel(\"Date\")\n",
    "plt.ylabel(\"MW\")\n",
    "plt.title(\"Consumption and Total Production in Latvia Over Time\")\n",
    "plt.legend()\n",
    "plt.grid()\n",
    "plt.tight_layout()\n",
    "plt.show()"
   ]
  },
  {
   "cell_type": "code",
   "execution_count": null,
   "id": "81256423",
   "metadata": {},
   "outputs": [],
   "source": [
    "import matplotlib.pyplot as plt\n",
    "\n",
    "# Filter data for Estonia\n",
    "estonia_data = merged_data[merged_data[\"Country\"] == \"Lithuania\"]\n",
    "\n",
    "# Plot consumption and total production\n",
    "plt.figure(figsize=(12, 6))\n",
    "plt.plot(\n",
    "    estonia_data[\"Date\"],\n",
    "    estonia_data[\"Consumption (MW)\"],\n",
    "    label=\"Consumption (MW)\",\n",
    "    color=\"blue\",\n",
    ")\n",
    "plt.plot(\n",
    "    estonia_data[\"Date\"],\n",
    "    estonia_data[\"Total Production (MW)\"],\n",
    "    label=\"Total Production (MW)\",\n",
    "    color=\"green\",\n",
    ")\n",
    "\n",
    "# Add labels, title, and legend\n",
    "plt.xlabel(\"Date\")\n",
    "plt.ylabel(\"MW\")\n",
    "plt.title(\"Consumption and Total Production in Lithuania Over Time\")\n",
    "plt.legend()\n",
    "plt.grid()\n",
    "plt.tight_layout()\n",
    "plt.show()"
   ]
  },
  {
   "cell_type": "code",
   "execution_count": null,
   "id": "3c91eca8",
   "metadata": {},
   "outputs": [],
   "source": [
    "import matplotlib.pyplot as plt\n",
    "\n",
    "\n",
    "# Plot consumption vs production for each country\n",
    "countries = merged_data[\"Country\"].unique()\n",
    "plt.figure(figsize=(12, 6))\n",
    "\n",
    "for country in countries:\n",
    "    country_data = merged_data[merged_data[\"Country\"] == country]\n",
    "    plt.plot(\n",
    "        country_data[\"Date\"],\n",
    "        country_data[\"Consumption (MW)\"],\n",
    "        label=f\"{country} Consumption\",\n",
    "    )\n",
    "    plt.plot(\n",
    "        country_data[\"Date\"],\n",
    "        country_data[\"Total Production (MW)\"],\n",
    "        label=f\"{country} Production\",\n",
    "    )\n",
    "\n",
    "plt.xlabel(\"Date\")\n",
    "plt.ylabel(\"MW\")\n",
    "plt.title(\"Consumption vs Production Over Time\")\n",
    "plt.legend()\n",
    "plt.grid()\n",
    "plt.tight_layout()\n",
    "plt.show()"
   ]
  },
  {
   "cell_type": "code",
   "execution_count": null,
   "id": "5311d0e1",
   "metadata": {},
   "outputs": [],
   "source": []
  }
 ],
 "metadata": {
  "kernelspec": {
   "display_name": "tensorflow",
   "language": "python",
   "name": "python3"
  },
  "language_info": {
   "codemirror_mode": {
    "name": "ipython",
    "version": 3
   },
   "file_extension": ".py",
   "mimetype": "text/x-python",
   "name": "python",
   "nbconvert_exporter": "python",
   "pygments_lexer": "ipython3",
   "version": "3.8.18"
  }
 },
 "nbformat": 4,
 "nbformat_minor": 5
}
