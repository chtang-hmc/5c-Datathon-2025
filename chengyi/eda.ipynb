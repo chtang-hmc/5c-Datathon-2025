{
 "cells": [
  {
   "cell_type": "code",
   "execution_count": null,
   "id": "1bec74b2",
   "metadata": {},
   "outputs": [],
   "source": [
    "import pandas as pd\n",
    "import matplotlib.pyplot as plt"
   ]
  },
  {
   "cell_type": "markdown",
   "id": "19745e8a",
   "metadata": {},
   "source": [
    "# Gas"
   ]
  },
  {
   "cell_type": "code",
   "execution_count": null,
   "id": "d86511df",
   "metadata": {},
   "outputs": [],
   "source": [
    "gas_data_path = '/home/ctang/ttmp/Datathon/data_and_starter_code/data/gas_prices.csv'\n",
    "gas_data = pd.read_csv(gas_data_path)"
   ]
  },
  {
   "cell_type": "code",
   "execution_count": null,
   "id": "fcaea6d7",
   "metadata": {},
   "outputs": [],
   "source": [
    "gas_data.head()"
   ]
  },
  {
   "cell_type": "code",
   "execution_count": null,
   "id": "53d0cde1",
   "metadata": {},
   "outputs": [],
   "source": [
    "# converte forecast_date to datetime\n",
    "gas_data['forecast_date'] = pd.to_datetime(gas_data['forecast_date'])\n",
    "gas_data['origin_date'] = pd.to_datetime(gas_data['origin_date'])\n",
    "\n",
    "# sort by forecast_date\n",
    "gas_data = gas_data.sort_values(by='forecast_date')\n",
    "gas_data.head()"
   ]
  },
  {
   "cell_type": "code",
   "execution_count": null,
   "id": "cf9e11b5",
   "metadata": {},
   "outputs": [],
   "source": [
    "# plot lowest_price_per_mwh over time\n",
    "plt.figure(figsize=(15, 5))\n",
    "plt.plot(gas_data['forecast_date'], gas_data['lowest_price_per_mwh'])\n",
    "plt.plot(gas_data['forecast_date'], gas_data['highest_price_per_mwh'])\n",
    "plt.show()"
   ]
  },
  {
   "cell_type": "markdown",
   "id": "91d4edf7",
   "metadata": {},
   "source": [
    "# Electricity"
   ]
  },
  {
   "cell_type": "code",
   "execution_count": null,
   "id": "74212255",
   "metadata": {},
   "outputs": [],
   "source": [
    "electricity_data_path = '/home/ctang/ttmp/Datathon/data_and_starter_code/data/electricity_prices.csv'\n",
    "electricity_data = pd.read_csv(electricity_data_path)\n",
    "electricity_data.head()"
   ]
  },
  {
   "cell_type": "code",
   "execution_count": null,
   "id": "87e4b08a",
   "metadata": {},
   "outputs": [],
   "source": [
    "# convert forecast_date to datetime\n",
    "electricity_data['forecast_date'] = pd.to_datetime(electricity_data['forecast_date'])\n",
    "electricity_data['origin_date'] = pd.to_datetime(electricity_data['origin_date'])\n",
    "\n",
    "# sort by forecast_date\n",
    "electricity_data = electricity_data.sort_values(by='forecast_date')\n",
    "electricity_data.head()"
   ]
  },
  {
   "cell_type": "code",
   "execution_count": null,
   "id": "c29fa351",
   "metadata": {},
   "outputs": [],
   "source": [
    "# plot euros_per_mwh over time\n",
    "plt.figure(figsize=(15, 5))\n",
    "plt.plot(electricity_data['forecast_date'], electricity_data['euros_per_mwh'])\n",
    "plt.xlabel('Forecast Date')\n",
    "plt.ylabel('Euros per MWh')\n",
    "plt.title('Electricity Prices Over Time')\n",
    "plt.show()"
   ]
  },
  {
   "cell_type": "code",
   "execution_count": null,
   "id": "17de9d37",
   "metadata": {},
   "outputs": [],
   "source": [
    "# smooth the data by taking daily averages\n",
    "electricity_data['forecast_date'] = electricity_data['forecast_date'].dt.date\n",
    "electricity_data = electricity_data.groupby('forecast_date').mean().reset_index()\n",
    "electricity_data['forecast_date'] = pd.to_datetime(electricity_data['forecast_date'])\n",
    "plt.figure(figsize=(15, 5))\n",
    "plt.plot(electricity_data['forecast_date'], electricity_data['euros_per_mwh'])\n",
    "plt.xlabel('Forecast Date')\n",
    "plt.ylabel('Euros per MWh')\n",
    "plt.title('Electricity Prices Over Time')\n",
    "plt.show()"
   ]
  },
  {
   "cell_type": "markdown",
   "id": "01dafb5d",
   "metadata": {},
   "source": [
    "# Combine Electricty and Gas"
   ]
  },
  {
   "cell_type": "code",
   "execution_count": null,
   "id": "61447076",
   "metadata": {},
   "outputs": [],
   "source": [
    "# combine gas and electricity data\n",
    "combined_data = pd.merge(gas_data, electricity_data, on='forecast_date')\n",
    "combined_data = combined_data.rename(columns={'euros_per_mwh': 'electricity_price'})\n",
    "combined_data = combined_data.rename(columns={'lowest_price_per_mwh': 'gas_price'})\n",
    "combined_data = combined_data.rename(columns={'highest_price_per_mwh': 'gas_price_high'})\n",
    "combined_data.head()"
   ]
  },
  {
   "cell_type": "code",
   "execution_count": null,
   "id": "fbede94c",
   "metadata": {},
   "outputs": [],
   "source": [
    "# plot gas vs. electricity prices\n",
    "plt.figure(figsize=(15, 5))\n",
    "plt.scatter(combined_data['gas_price'], combined_data['electricity_price'])\n",
    "plt.xlabel('Gas Price')\n",
    "plt.ylabel('Electricity Price')\n",
    "plt.title('Gas vs. Electricity Prices')\n",
    "plt.show()"
   ]
  },
  {
   "cell_type": "markdown",
   "id": "4100ce13",
   "metadata": {},
   "source": [
    "# Electricity Data (Hourly)"
   ]
  },
  {
   "cell_type": "code",
   "execution_count": null,
   "id": "91123dc2",
   "metadata": {},
   "outputs": [],
   "source": [
    "hourly_data_path = '/home/ctang/ttmp/Datathon/data_and_starter_code/data/LV_2024_hourly.csv'\n",
    "hourly_data = pd.read_csv(hourly_data_path)\n",
    "hourly_data.head()"
   ]
  },
  {
   "cell_type": "code",
   "execution_count": null,
   "id": "229faf5c",
   "metadata": {},
   "outputs": [],
   "source": [
    "# convert Datetime (UTC) to datetime\n",
    "hourly_data['Datetime (UTC)'] = pd.to_datetime(hourly_data['Datetime (UTC)'])\n",
    "hourly_data['Datetime (UTC)'] = hourly_data['Datetime (UTC)'].dt.tz_localize('UTC')\n",
    "hourly_data['Datetime (UTC)'] = hourly_data['Datetime (UTC)'].dt.tz_convert('Europe/Tallinn')\n",
    "hourly_data['Datetime (UTC)'] = hourly_data['Datetime (UTC)'].dt.tz_localize(None)\n",
    "hourly_data['Datetime (UTC)'] = pd.to_datetime(hourly_data['Datetime (UTC)'])\n",
    "hourly_data.head()"
   ]
  },
  {
   "cell_type": "code",
   "execution_count": null,
   "id": "054536c0",
   "metadata": {},
   "outputs": [],
   "source": [
    "# plot carbon intensity over time\n",
    "plt.figure(figsize=(15, 5))\n",
    "plt.plot(hourly_data['Datetime (UTC)'], hourly_data['Renewable energy percentage (RE%)'])\n",
    "plt.xlabel('Datetime (UTC)')\n",
    "plt.ylabel('Carbon intensity gCO₂eq/kWh (direct)')\n",
    "plt.title('Carbon Intensity Over Time')\n",
    "plt.show()"
   ]
  },
  {
   "cell_type": "code",
   "execution_count": null,
   "id": "0755a6aa",
   "metadata": {},
   "outputs": [],
   "source": [
    "# see hourly_data shape\n",
    "hourly_data.shape"
   ]
  },
  {
   "cell_type": "code",
   "execution_count": null,
   "id": "ce9c3300",
   "metadata": {},
   "outputs": [],
   "source": []
  }
 ],
 "metadata": {
  "kernelspec": {
   "display_name": "base",
   "language": "python",
   "name": "python3"
  },
  "language_info": {
   "codemirror_mode": {
    "name": "ipython",
    "version": 3
   },
   "file_extension": ".py",
   "mimetype": "text/x-python",
   "name": "python",
   "nbconvert_exporter": "python",
   "pygments_lexer": "ipython3",
   "version": "3.12.2"
  }
 },
 "nbformat": 4,
 "nbformat_minor": 5
}
