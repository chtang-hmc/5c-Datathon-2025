{
 "cells": [
  {
   "cell_type": "code",
   "execution_count": null,
   "id": "cceccf2b",
   "metadata": {},
   "outputs": [],
   "source": [
    "import pandas as pd"
   ]
  },
  {
   "cell_type": "markdown",
   "id": "95a43b40",
   "metadata": {},
   "source": [
    "# Production"
   ]
  },
  {
   "cell_type": "code",
   "execution_count": null,
   "id": "5fd85c16",
   "metadata": {},
   "outputs": [],
   "source": [
    "ES_2021_energy_type = pd.read_csv(\"/home/ctang/ttmp/Datathon/data_and_starter_code/data/energy_type_2021_estonia.csv\")\n",
    "ES_2022_energy_type = pd.read_csv(\"/home/ctang/ttmp/Datathon/data_and_starter_code/data/energy_type_2022_estonia.csv\")\n",
    "ES_2023_energy_type = pd.read_csv(\"/home/ctang/ttmp/Datathon/data_and_starter_code/data/energy_type_2023_estonia.csv\")\n",
    "ES_2024_energy_type = pd.read_csv(\"/home/ctang/ttmp/Datathon/data_and_starter_code/data/energy_type_2024_estonia.csv\")\n",
    "# combine all dataframes\n",
    "ES_energy_type = pd.concat([ES_2021_energy_type, ES_2022_energy_type, ES_2023_energy_type, ES_2024_energy_type], ignore_index=True)\n",
    "# save to csv\n",
    "ES_energy_type.to_csv(\"/home/ctang/ttmp/Datathon/data_and_starter_code/data/energy_type_estonia.csv\", index=False)"
   ]
  },
  {
   "cell_type": "code",
   "execution_count": null,
   "id": "78582178",
   "metadata": {},
   "outputs": [],
   "source": [
    "LT_2021_energy_type = pd.read_csv(\"/home/ctang/ttmp/Datathon/data_and_starter_code/data/energy_type_2021_lithuania.csv\")\n",
    "LT_2022_energy_type = pd.read_csv(\"/home/ctang/ttmp/Datathon/data_and_starter_code/data/energy_type_2022_lithuania.csv\")\n",
    "LT_2023_energy_type = pd.read_csv(\"/home/ctang/ttmp/Datathon/data_and_starter_code/data/energy_type_2023_lithuania.csv\")\n",
    "LT_2024_energy_type = pd.read_csv(\"/home/ctang/ttmp/Datathon/data_and_starter_code/data/energy_type_2024_lithuania.csv\")\n",
    "# combine all dataframes\n",
    "LT_energy_type = pd.concat([LT_2021_energy_type, LT_2022_energy_type, LT_2023_energy_type, LT_2024_energy_type], ignore_index=True)\n",
    "# save to csv\n",
    "LT_energy_type.to_csv(\"/home/ctang/ttmp/Datathon/data_and_starter_code/data/energy_type_lithuania.csv\", index=False)"
   ]
  },
  {
   "cell_type": "code",
   "execution_count": null,
   "id": "1e613c41",
   "metadata": {},
   "outputs": [],
   "source": [
    "LV_2021_energy_type = pd.read_csv(\"/home/ctang/ttmp/Datathon/data_and_starter_code/data/energy_type_2021_latvia.csv\")\n",
    "LV_2022_energy_type = pd.read_csv(\"/home/ctang/ttmp/Datathon/data_and_starter_code/data/energy_type_2022_latvia.csv\")\n",
    "LV_2023_energy_type = pd.read_csv(\"/home/ctang/ttmp/Datathon/data_and_starter_code/data/energy_type_2023_latvia.csv\")\n",
    "LV_2024_energy_type = pd.read_csv(\"/home/ctang/ttmp/Datathon/data_and_starter_code/data/energy_type_2024_latvia.csv\")\n",
    "# combine all dataframes\n",
    "LV_energy_type = pd.concat([LV_2021_energy_type, LV_2022_energy_type, LV_2023_energy_type, LV_2024_energy_type], ignore_index=True)\n",
    "# save to csv\n",
    "LV_energy_type.to_csv(\"/home/ctang/ttmp/Datathon/data_and_starter_code/data/energy_type_latvia.csv\", index=False)"
   ]
  },
  {
   "cell_type": "code",
   "execution_count": null,
   "id": "5cfa57a0",
   "metadata": {},
   "outputs": [],
   "source": [
    "# combine all dataframes\n",
    "Baltic_energy_type = pd.concat([ES_energy_type, LT_energy_type, LV_energy_type], ignore_index=True)\n",
    "Baltic_energy_type.drop_duplicates(inplace=True)\n",
    "\n",
    "# convert to datetime\n",
    "Baltic_energy_type['MTU (CET/CEST)'] = Baltic_energy_type['MTU (CET/CEST)'].apply(lambda x: x.split(' ')[0])\n",
    "pd.to_datetime(Baltic_energy_type['MTU (CET/CEST)'], format = \"%d/%m/%Y\")\n",
    "\n",
    "# drop rows with n/e in Generation (MW)\n",
    "Baltic_energy_type = Baltic_energy_type[Baltic_energy_type['Generation (MW)'] != 'n/e']\n",
    "\n",
    "# convert Generation (MW) to float\n",
    "Baltic_energy_type['Generation (MW)'] = Baltic_energy_type['Generation (MW)'].astype(float)\n",
    "\n",
    "# sum up Generation (MW) with the same MTU (CET/CEST), Area and Production Type\n",
    "Baltic_energy_type = Baltic_energy_type.groupby(['MTU (CET/CEST)', 'Area', 'Production Type']).sum().reset_index()\n",
    "Baltic_energy_type['Area'] = Baltic_energy_type['Area'].replace({'BZN|EE': 'Estonia', 'BZN|LV': 'Latvia', 'BZN|LT': 'Lithuania'})\n",
    "\n",
    "# save to csv\n",
    "Baltic_energy_type.to_csv(\"/home/ctang/ttmp/Datathon/data_and_starter_code/data/baltic_energy_type.csv\", index=False)"
   ]
  },
  {
   "cell_type": "markdown",
   "id": "39ee54ce",
   "metadata": {},
   "source": [
    "# Load"
   ]
  },
  {
   "cell_type": "code",
   "execution_count": null,
   "id": "8da73302",
   "metadata": {},
   "outputs": [],
   "source": [
    "ES_2021_energy_load = pd.read_csv(\"/home/ctang/ttmp/Datathon/data_and_starter_code/data/energy_load_2021_estonia.csv\")\n",
    "ES_2022_energy_load = pd.read_csv(\"/home/ctang/ttmp/Datathon/data_and_starter_code/data/energy_load_2022_estonia.csv\")\n",
    "ES_2023_energy_load = pd.read_csv(\"/home/ctang/ttmp/Datathon/data_and_starter_code/data/energy_load_2023_estonia.csv\")\n",
    "ES_2024_energy_load = pd.read_csv(\"/home/ctang/ttmp/Datathon/data_and_starter_code/data/energy_load_2024_estonia.csv\")\n",
    "# combine all dataframes\n",
    "ES_energy_load = pd.concat([ES_2021_energy_load, ES_2022_energy_load, ES_2023_energy_load, ES_2024_energy_load], ignore_index=True)\n",
    "# save to csv\n",
    "ES_energy_load.to_csv(\"/home/ctang/ttmp/Datathon/data_and_starter_code/data/energy_load_estonia.csv\", index=False)"
   ]
  },
  {
   "cell_type": "code",
   "execution_count": null,
   "id": "adfa918d",
   "metadata": {},
   "outputs": [],
   "source": [
    "LV_2021_energy_load = pd.read_csv(\"/home/ctang/ttmp/Datathon/data_and_starter_code/data/energy_load_2021_latvia.csv\")\n",
    "LV_2022_energy_load = pd.read_csv(\"/home/ctang/ttmp/Datathon/data_and_starter_code/data/energy_load_2022_latvia.csv\")\n",
    "LV_2023_energy_load = pd.read_csv(\"/home/ctang/ttmp/Datathon/data_and_starter_code/data/energy_load_2023_latvia.csv\")\n",
    "LV_2024_energy_load = pd.read_csv(\"/home/ctang/ttmp/Datathon/data_and_starter_code/data/energy_load_2024_latvia.csv\")\n",
    "# combine all dataframes\n",
    "LV_energy_load = pd.concat([LV_2021_energy_load, LV_2022_energy_load, LV_2023_energy_load, LV_2024_energy_load], ignore_index=True)\n",
    "# save to csv\n",
    "LV_energy_load.to_csv(\"/home/ctang/ttmp/Datathon/data_and_starter_code/data/energy_load_latvia.csv\", index=False)"
   ]
  },
  {
   "cell_type": "code",
   "execution_count": null,
   "id": "527c5d4a",
   "metadata": {},
   "outputs": [],
   "source": [
    "LT_2021_energy_load = pd.read_csv(\"/home/ctang/ttmp/Datathon/data_and_starter_code/data/energy_load_2021_lithuania.csv\")\n",
    "LT_2022_energy_load = pd.read_csv(\"/home/ctang/ttmp/Datathon/data_and_starter_code/data/energy_load_2022_lithuania.csv\")\n",
    "LT_2023_energy_load = pd.read_csv(\"/home/ctang/ttmp/Datathon/data_and_starter_code/data/energy_load_2023_lithuania.csv\")\n",
    "LT_2024_energy_load = pd.read_csv(\"/home/ctang/ttmp/Datathon/data_and_starter_code/data/energy_load_2024_lithuania.csv\")\n",
    "# combine all dataframes\n",
    "LT_energy_load = pd.concat([LT_2021_energy_load, LT_2022_energy_load, LT_2023_energy_load, LT_2024_energy_load], ignore_index=True)\n",
    "# save to csv\n",
    "LT_energy_load.to_csv(\"/home/ctang/ttmp/Datathon/data_and_starter_code/data/energy_load_lithuania.csv\", index=False)"
   ]
  },
  {
   "cell_type": "code",
   "execution_count": null,
   "id": "d1a4893b",
   "metadata": {},
   "outputs": [],
   "source": [
    "# combine all dataframes\n",
    "Baltic_energy_load = pd.concat([ES_energy_load, LV_energy_load, LT_energy_load], ignore_index=True)\n",
    "Baltic_energy_load.drop_duplicates(inplace=True)\n",
    "\n",
    "# convert to datetime\n",
    "Baltic_energy_load['MTU (CET/CEST)'] = Baltic_energy_load['MTU (CET/CEST)'].apply(lambda x: x.split(' ')[0])\n",
    "pd.to_datetime(Baltic_energy_load['MTU (CET/CEST)'], format = \"%d/%m/%Y\")\n",
    "\n",
    "Baltic_energy_load['Area'] = Baltic_energy_load['Area'].replace({'BZN|EE': 'Estonia', 'BZN|LV': 'Latvia', 'BZN|LT': 'Lithuania'})\n",
    "Baltic_energy_load = Baltic_energy_load.groupby(['MTU (CET/CEST)', 'Area']).sum().reset_index()\n",
    "\n",
    "# save to csv\n",
    "Baltic_energy_load.to_csv(\"/home/ctang/ttmp/Datathon/data_and_starter_code/data/baltic_energy_load.csv\", index=False)"
   ]
  },
  {
   "cell_type": "markdown",
   "id": "ebae9fe3",
   "metadata": {},
   "source": [
    "# Transmission"
   ]
  },
  {
   "cell_type": "code",
   "execution_count": null,
   "id": "45647223",
   "metadata": {},
   "outputs": [],
   "source": [
    "ES_2021_transmission = pd.read_csv(\"/home/ctang/ttmp/Datathon/data_and_starter_code/data/transmission_2021_estonia.csv\")\n",
    "ES_2022_transmission = pd.read_csv(\"/home/ctang/ttmp/Datathon/data_and_starter_code/data/transmission_2022_estonia.csv\")\n",
    "ES_2023_transmission = pd.read_csv(\"/home/ctang/ttmp/Datathon/data_and_starter_code/data/transmission_2023_estonia.csv\")\n",
    "ES_2024_transmission = pd.read_csv(\"/home/ctang/ttmp/Datathon/data_and_starter_code/data/transmission_2024_estonia.csv\")\n",
    "# combine all dataframes\n",
    "ES_transmission = pd.concat([ES_2021_transmission, ES_2022_transmission, ES_2023_transmission, ES_2024_transmission], ignore_index=True)\n",
    "# save to csv\n",
    "ES_transmission.to_csv(\"/home/ctang/ttmp/Datathon/data_and_starter_code/data/transmission_estonia.csv\", index=False)"
   ]
  },
  {
   "cell_type": "code",
   "execution_count": null,
   "id": "e47978ee",
   "metadata": {},
   "outputs": [],
   "source": [
    "LV_2021_transmission = pd.read_csv(\"/home/ctang/ttmp/Datathon/data_and_starter_code/data/transmission_2021_latvia.csv\")\n",
    "LV_2022_transmission = pd.read_csv(\"/home/ctang/ttmp/Datathon/data_and_starter_code/data/transmission_2022_latvia.csv\")\n",
    "LV_2023_transmission = pd.read_csv(\"/home/ctang/ttmp/Datathon/data_and_starter_code/data/transmission_2023_latvia.csv\")\n",
    "LV_2024_transmission = pd.read_csv(\"/home/ctang/ttmp/Datathon/data_and_starter_code/data/transmission_2024_latvia.csv\")\n",
    "# combine all dataframes\n",
    "LV_transmission = pd.concat([LV_2021_transmission, LV_2022_transmission, LV_2023_transmission, LV_2024_transmission], ignore_index=True)\n",
    "# save to csv\n",
    "LV_transmission.to_csv(\"/home/ctang/ttmp/Datathon/data_and_starter_code/data/transmission_latvia.csv\", index=False)"
   ]
  },
  {
   "cell_type": "code",
   "execution_count": null,
   "id": "519f1402",
   "metadata": {},
   "outputs": [],
   "source": [
    "LT_2021_transmission = pd.read_csv(\"/home/ctang/ttmp/Datathon/data_and_starter_code/data/transmission_2021_lithuania.csv\")\n",
    "LT_2022_transmission = pd.read_csv(\"/home/ctang/ttmp/Datathon/data_and_starter_code/data/transmission_2022_lithuania.csv\")\n",
    "LT_2023_transmission = pd.read_csv(\"/home/ctang/ttmp/Datathon/data_and_starter_code/data/transmission_2023_lithuania.csv\")\n",
    "LT_2024_transmission = pd.read_csv(\"/home/ctang/ttmp/Datathon/data_and_starter_code/data/transmission_2024_lithuania.csv\")\n",
    "# combine all dataframes\n",
    "LT_transmission = pd.concat([LT_2021_transmission, LT_2022_transmission, LT_2023_transmission, LT_2024_transmission], ignore_index=True)\n",
    "# save to csv\n",
    "LT_transmission.to_csv(\"/home/ctang/ttmp/Datathon/data_and_starter_code/data/transmission_lithuania.csv\", index=False)"
   ]
  },
  {
   "cell_type": "code",
   "execution_count": null,
   "id": "63cfe024",
   "metadata": {},
   "outputs": [],
   "source": [
    "# combine the transmission data\n",
    "transmission = pd.concat([ES_transmission, LV_transmission, LT_transmission], ignore_index=True)\n",
    "transmission.drop_duplicates(inplace=True)\n",
    "\n",
    "# convert to datetime\n",
    "transmission['MTU'] = transmission['MTU'].apply(lambda x: x.split(' ')[0])\n",
    "pd.to_datetime(transmission['MTU'], format = \"%d/%m/%Y\")\n",
    "transmission.head()\n",
    "\n",
    "# sum up Physical Flow (MW) of every entry with the same MTU, Out Area, and In Area\n",
    "transmission = transmission.groupby(['MTU', 'Out Area', 'In Area']).sum().reset_index()\n",
    "\n",
    "# save to csv\n",
    "transmission.to_csv(\"/home/ctang/ttmp/Datathon/data_and_starter_code/data/transmission.csv\", index=False)"
   ]
  },
  {
   "cell_type": "code",
   "execution_count": null,
   "id": "cff839f4",
   "metadata": {},
   "outputs": [],
   "source": []
  }
 ],
 "metadata": {
  "kernelspec": {
   "display_name": "base",
   "language": "python",
   "name": "python3"
  },
  "language_info": {
   "codemirror_mode": {
    "name": "ipython",
    "version": 3
   },
   "file_extension": ".py",
   "mimetype": "text/x-python",
   "name": "python",
   "nbconvert_exporter": "python",
   "pygments_lexer": "ipython3",
   "version": "3.12.7"
  }
 },
 "nbformat": 4,
 "nbformat_minor": 5
}
