{
 "cells": [
  {
   "cell_type": "code",
   "execution_count": null,
   "id": "38d922ca",
   "metadata": {},
   "outputs": [],
   "source": [
    "import pandas\n",
    "import matplotlib.pyplot as plt\n",
    "import numpy as np"
   ]
  },
  {
   "cell_type": "code",
   "execution_count": null,
   "id": "70df9a8a",
   "metadata": {},
   "outputs": [],
   "source": [
    "electricity_data = pandas.read_csv('/home/ctang/ttmp/Datathon/data_and_starter_code/data/electric_prices (1).csv')\n",
    "energy_data = pandas.read_csv('/home/ctang/ttmp/Datathon/data_and_starter_code/data/baltic_energy_type.csv')\n",
    "carbon_data = pandas.read_csv('/home/ctang/ttmp/Datathon/data_and_starter_code/data/carbon_intensity_countries.csv')"
   ]
  },
  {
   "cell_type": "code",
   "execution_count": null,
   "id": "1ba8ea9c",
   "metadata": {},
   "outputs": [],
   "source": [
    "# join carbon data with electricity data on date\n",
    "carbon_data['Datetime (UTC)'] = pandas.to_datetime(carbon_data['Datetime (UTC)'])\n",
    "electricity_data['Date'] = pandas.to_datetime(electricity_data['Date'])\n",
    "carbon_data = carbon_data.rename(columns={'Datetime (UTC)': 'Date'})\n",
    "carbon_data = carbon_data.set_index('Date')\n",
    "carbon_data = carbon_data.drop(columns=['Zone id', 'Data source'])\n",
    "electricity_data = electricity_data.set_index('Date')"
   ]
  },
  {
   "cell_type": "code",
   "execution_count": null,
   "id": "bfb00974",
   "metadata": {},
   "outputs": [],
   "source": [
    "carbon_data_wide = carbon_data.pivot_table(index=carbon_data.index, columns='Country')\n",
    "carbon_data_wide.columns = ['{}_{}'.format(col[1], col[0]) for col in carbon_data_wide.columns]\n",
    "carbon_data = carbon_data_wide"
   ]
  },
  {
   "cell_type": "code",
   "execution_count": null,
   "id": "b757bb7e",
   "metadata": {},
   "outputs": [],
   "source": [
    "# join electricity data with carbon data on date\n",
    "combined_data = electricity_data.join(carbon_data, how='left')\n",
    "combined_data.columns"
   ]
  },
  {
   "cell_type": "code",
   "execution_count": null,
   "id": "e7c63c1b",
   "metadata": {},
   "outputs": [],
   "source": [
    "# plot electricity price on y vs carbon intensity on x for all countries, plot separate plots for each year. use percent carbon-free energy as hue\n",
    "combined_data['Year'] = combined_data.index.year\n",
    "combined_data['Date'] = combined_data.index\n",
    "\n",
    "# compute log of carbon free energy percentage in new column called log_Carbon-free energy percentage (CFE%)\n",
    "combined_data['Estonia_Carbon-free energy percentage (CFE%)'] = combined_data['Estonia_Carbon-free energy percentage (CFE%)'].replace(0, 0.0001)\n",
    "combined_data['Latvia_Carbon-free energy percentage (CFE%)'] = combined_data['Latvia_Carbon-free energy percentage (CFE%)'].replace(0, 0.0001)\n",
    "combined_data['Lithuania_Carbon-free energy percentage (CFE%)'] = combined_data['Lithuania_Carbon-free energy percentage (CFE%)'].replace(0, 0.0001)\n",
    "\n",
    "fig, ax = plt.subplots(figsize = (40,20))\n",
    "combined_data.plot.scatter(x='Date', s='Estonia', ax = ax, y='Estonia_log_Carbon-free energy percentage (CFE%)', c = 'blue', label = 'Estonia', alpha = 0.5)\n",
    "combined_data.plot.scatter(x='Date', s='Latvia', ax = ax, y='Latvia_log_Carbon-free energy percentage (CFE%)', c = 'green', label = 'Latvia', alpha = 0.5)\n",
    "combined_data.plot.scatter(x='Date', s='Lithuania', ax = ax, y='Lithuania_log_Carbon-free energy percentage (CFE%)', c = 'red', label = 'Lithuania', alpha = 0.5)\n",
    "ax.set_xlabel('Date')\n",
    "ax.set_ylabel('Electricity Price (EUR/MWh)')\n",
    "ax.set_title('Latvia electricity price vs carbon intensity')\n",
    "plt.show()"
   ]
  },
  {
   "cell_type": "code",
   "execution_count": null,
   "id": "ebdd54b7",
   "metadata": {},
   "outputs": [],
   "source": [
    "for year in combined_data['Year'].unique():\n",
    "    # only plot if there is more than 10 data points\n",
    "    if len(combined_data[combined_data['Year'] == year]) > 10:\n",
    "        fig, ax = plt.subplots(figsize=(15, 5))\n",
    "        combined_data.plot.scatter(x='Date', y='Latvia_Carbon-free energy percentage (CFE%)', ax = ax, c='Latvia', colormap='viridis')\n",
    "        ax.set_xlabel('Electricity price (EUR/MWh)')\n",
    "        ax.set_ylabel('Carbon intensity (gCO2/kWh)')\n",
    "        ax.set_title('Latvia electricity price vs carbon intensity in {}'.format(year))\n",
    "        plt.show()"
   ]
  },
  {
   "cell_type": "code",
   "execution_count": null,
   "id": "7ed93545",
   "metadata": {},
   "outputs": [],
   "source": [
    "fig, ax = plt.subplots(figsize=(15, 5))\n",
    "combined_data.plot.scatter(x='Date', y='Latvia_Carbon-free energy percentage (CFE%)', ax = ax, c='Estonia_Carbon intensity gCO‚ÇÇeq/kWh (Life cycle)', colormap='viridis')\n",
    "ax.set_xlabel('Electricity price (EUR/MWh)')\n",
    "ax.set_ylabel('Carbon intensity (gCO2/kWh)')\n",
    "ax.set_title('Latvia electricity price vs carbon intensity')\n",
    "plt.show()"
   ]
  },
  {
   "cell_type": "code",
   "execution_count": null,
   "id": "05fc3aca",
   "metadata": {},
   "outputs": [],
   "source": [
    "# scatter plot of Estonian carbon-free energy percentage vs time, smoothed over 30 days, set color bar name to Carbon Intensity (gCO2/kWh)\n",
    "plt.figure(figsize=(15, 5))\n",
    "combined_data['Estoan_smooth'] = combined_data['Estonia_Carbon-free energy percentage (CFE%)'].rolling(window=30).mean()\n",
    "scatter = plt.scatter(x=combined_data['Date'], y=combined_data['Estoan_smooth'], c=combined_data['Estonia_Carbon intensity gCO‚ÇÇeq/kWh (Life cycle)'])\n",
    "cbar = plt.colorbar(scatter)\n",
    "cbar.set_label('Lifetime Carbon Intensity (gCO2/kWh)')\n",
    "plt.xlabel('Date')\n",
    "plt.ylabel('Estonian carbon-free energy percentage')\n",
    "plt.title('Estonian carbon-free energy percentage vs time')\n",
    "plt.show()"
   ]
  },
  {
   "cell_type": "code",
   "execution_count": null,
   "id": "8999bfb9",
   "metadata": {},
   "outputs": [],
   "source": []
  }
 ],
 "metadata": {
  "kernelspec": {
   "display_name": "base",
   "language": "python",
   "name": "python3"
  },
  "language_info": {
   "codemirror_mode": {
    "name": "ipython",
    "version": 3
   },
   "file_extension": ".py",
   "mimetype": "text/x-python",
   "name": "python",
   "nbconvert_exporter": "python",
   "pygments_lexer": "ipython3",
   "version": "3.12.2"
  }
 },
 "nbformat": 4,
 "nbformat_minor": 5
}
